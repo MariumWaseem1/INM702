{
 "cells": [
  {
   "cell_type": "code",
   "execution_count": null,
   "metadata": {},
   "outputs": [],
   "source": [
    "\"\"\"\n",
    "Importing needed libraries\n",
    "\"\"\"\n",
    "import torch\n",
    "import torch.nn as nn\n",
    "from torch.utils.data import DataLoader\n",
    "from torchvision import datasets, transforms\n",
    "import os"
   ]
  },
  {
   "cell_type": "code",
   "execution_count": null,
   "metadata": {},
   "outputs": [],
   "source": [
    "\"\"\" \n",
    " Dataset path\n",
    "\"\"\"\n",
    "training_image_path = 'plant disease dataset/Train/Train'\n",
    "validation_image_path = 'plant disease dataset/Validation/Validation'\n",
    "testing_image_path = 'plant disease dataset/Test/Test'"
   ]
  },
  {
   "cell_type": "code",
   "execution_count": null,
   "metadata": {},
   "outputs": [],
   "source": [
    "\"\"\" \n",
    "Let's define the transformatiions that needed to be applied on the images. \n",
    "\"\"\"\n",
    "image_transformation = transforms.Compose([\n",
    "    transforms.Resize((32, 32)),  # resizing the image to 32x32\n",
    "    transforms.ToTensor()  # Converting as tensor\n",
    "])"
   ]
  },
  {
   "cell_type": "code",
   "execution_count": null,
   "metadata": {},
   "outputs": [],
   "source": [
    "\"\"\" \n",
    "Definig the dataset by applying transfromations on the datsset images.\n",
    "\"\"\"\n",
    "training_dataset = datasets.ImageFolder(\n",
    "    training_image_path, transform=image_transformation)\n",
    "validation_dataset = datasets.ImageFolder(\n",
    "    validation_image_path, transform=image_transformation)\n",
    "testing_dataset = datasets.ImageFolder(\n",
    "    testing_image_path, transform=image_transformation)"
   ]
  },
  {
   "cell_type": "code",
   "execution_count": null,
   "metadata": {},
   "outputs": [],
   "source": [
    "\"\"\"  \n",
    "Insights of defined dataset. \n",
    "\"\"\"\n",
    "\n",
    "print(\"Size of Training Data : \", len(training_dataset))\n",
    "print(\"Size of Validation Data : \", len(validation_dataset))\n",
    "print(\"Size of Testing Data : \", len(testing_dataset))\n",
    "print(\"Unique Classes : \", training_dataset.classes)"
   ]
  },
  {
   "cell_type": "code",
   "execution_count": null,
   "metadata": {},
   "outputs": [],
   "source": [
    "\"\"\" \n",
    "Defining the dataloaders. \n",
    "    - batch_size : 32\n",
    "\"\"\"\n",
    "training_loader = DataLoader(training_dataset, batch_size=32, shuffle=True)\n",
    "validation_loader = DataLoader(validation_dataset, batch_size=32)\n",
    "testing_loader = DataLoader(testing_dataset, batch_size=32)"
   ]
  },
  {
   "cell_type": "code",
   "execution_count": null,
   "metadata": {},
   "outputs": [],
   "source": []
  }
 ],
 "metadata": {
  "kernelspec": {
   "display_name": ".venv",
   "language": "python",
   "name": "python3"
  },
  "language_info": {
   "name": "python",
   "version": "3.10.4"
  }
 },
 "nbformat": 4,
 "nbformat_minor": 2
}
