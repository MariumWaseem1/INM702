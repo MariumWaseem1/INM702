{
 "cells": [
  {
   "cell_type": "code",
   "execution_count": 4,
   "metadata": {},
   "outputs": [],
   "source": [
    "import numpy as np"
   ]
  },
  {
   "cell_type": "code",
   "execution_count": null,
   "metadata": {},
   "outputs": [
    {
     "ename": "SyntaxError",
     "evalue": "invalid syntax (3889239008.py, line 1)",
     "output_type": "error",
     "traceback": [
      "\u001b[0;36m  Cell \u001b[0;32mIn[3], line 1\u001b[0;36m\u001b[0m\n\u001b[0;31m    pip3 install numpy\u001b[0m\n\u001b[0m         ^\u001b[0m\n\u001b[0;31mSyntaxError\u001b[0m\u001b[0;31m:\u001b[0m invalid syntax\n"
     ]
    }
   ],
   "source": [
    "class Dense_Layer:\n",
    "  def __init__(self, n_inputs, n_neurons):\n",
    "    self.weights = np.random.rand(n_inputs, n_neurons)\n",
    "    self.biases = np.zeros((1, n_neurons))\n",
    "\n",
    "  def forward_propargation(self, input_layer):\n",
    "    self.output_layer = np.dot(input_layer, self.weights) + self.biases\n",
    "    return (np.dot(input_layer, self.weights) + self.biases)\n",
    "\n",
    "\n",
    "layer1 = Dense_Layer(4, 4)\n",
    "layer1.forward_propargation([1, 2, 3,4])"
   ]
  },
  {
   "cell_type": "code",
   "execution_count": null,
   "metadata": {},
   "outputs": [],
   "source": [
    "# Defining plot structure\n",
    "fig, axes = plt.subplots(6, 3, figsize=(20, 30))\n",
    "fig.suptitle(\"Boxplot for Numerical Columns\", fontsize=20)\n",
    "\n",
    "# Flattening the axes\n",
    "axes = axes.flatten()\n",
    "\n",
    "# Loop through each numerical column\n",
    "for i, col in enumerate(numerical_columns):\n",
    "    # Boxplot using seaborn library\n",
    "    sns.boxplot(y=df[col], ax=axes[i], color=\"#C58E0A\")\n",
    "    axes[i].set_title(f\"Boxplot of {col}\")\n",
    "    axes[i].set_xlabel(\"\")\n",
    "    axes[i].set_ylabel(col)\n",
    "\n",
    "\n",
    "# Hiding the unused plots\n",
    "for j in range(len(numerical_columns), len(axes)):\n",
    "    axes[j].axis('off')\n",
    "\n",
    "# Adjusting the layout\n",
    "plt.tight_layout(rect=[0, 0, 1, 0.96])\n",
    "plt.show()"
   ]
  }
 ],
 "metadata": {
  "kernelspec": {
   "display_name": ".venv",
   "language": "python",
   "name": "python3"
  },
  "language_info": {
   "codemirror_mode": {
    "name": "ipython",
    "version": 3
   },
   "file_extension": ".py",
   "mimetype": "text/x-python",
   "name": "python",
   "nbconvert_exporter": "python",
   "pygments_lexer": "ipython3",
   "version": "3.10.4"
  }
 },
 "nbformat": 4,
 "nbformat_minor": 2
}
