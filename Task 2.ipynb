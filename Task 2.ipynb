{
 "cells": [
  {
   "cell_type": "code",
   "execution_count": 73,
   "metadata": {},
   "outputs": [],
   "source": [
    "\"\"\"\n",
    "Importing needed libraries\n",
    "\"\"\"\n",
    "import torch\n",
    "import torch.nn as nn\n",
    "from torch.utils.data import DataLoader\n",
    "from torchvision import datasets, transforms\n",
    "import os"
   ]
  },
  {
   "cell_type": "code",
   "execution_count": 74,
   "metadata": {},
   "outputs": [],
   "source": [
    "\"\"\" \n",
    " Dataset path\n",
    "\"\"\"\n",
    "training_image_path = 'plant disease dataset/Train/Train'\n",
    "validation_image_path = 'plant disease dataset/Validation/Validation'\n",
    "testing_image_path = 'plant disease dataset/Test/Test'"
   ]
  },
  {
   "cell_type": "code",
   "execution_count": 75,
   "metadata": {},
   "outputs": [],
   "source": [
    "\"\"\" \n",
    "Let's define the transformatiions that needed to be applied on the images. \n",
    "\"\"\"\n",
    "image_transformation = transforms.Compose([\n",
    "    transforms.Resize((128, 128)),  # resizing the image to 32x32\n",
    "    transforms.ToTensor()  # Converting as tensor\n",
    "])"
   ]
  },
  {
   "cell_type": "code",
   "execution_count": 76,
   "metadata": {},
   "outputs": [],
   "source": [
    "\"\"\" \n",
    "Definig the dataset by applying transfromations on the datsset images.\n",
    "\"\"\"\n",
    "training_dataset = datasets.ImageFolder(\n",
    "    training_image_path, transform=image_transformation)\n",
    "validation_dataset = datasets.ImageFolder(\n",
    "    validation_image_path, transform=image_transformation)\n",
    "testing_dataset = datasets.ImageFolder(\n",
    "    testing_image_path, transform=image_transformation)"
   ]
  },
  {
   "cell_type": "code",
   "execution_count": 77,
   "metadata": {},
   "outputs": [
    {
     "name": "stdout",
     "output_type": "stream",
     "text": [
      "Size of Training Data :  1322\n",
      "Size of Validation Data :  60\n",
      "Size of Testing Data :  150\n",
      "Unique Classes :  ['Healthy', 'Powdery', 'Rust']\n"
     ]
    }
   ],
   "source": [
    "\"\"\"  \n",
    "Insights of defined dataset. \n",
    "\"\"\"\n",
    "\n",
    "print(\"Size of Training Data : \", len(training_dataset))\n",
    "print(\"Size of Validation Data : \", len(validation_dataset))\n",
    "print(\"Size of Testing Data : \", len(testing_dataset))\n",
    "print(\"Unique Classes : \", training_dataset.classes)"
   ]
  },
  {
   "cell_type": "markdown",
   "metadata": {},
   "source": [
    "## Base CNN model for plant disease prediction"
   ]
  },
  {
   "cell_type": "code",
   "execution_count": 78,
   "metadata": {},
   "outputs": [],
   "source": [
    "\"\"\" \n",
    "Defining the dataloaders. \n",
    "    - batch_size : 32\n",
    "\"\"\"\n",
    "training_loader = DataLoader(training_dataset, batch_size=32, shuffle=True)\n",
    "validation_loader = DataLoader(validation_dataset, batch_size=32)\n",
    "testing_loader = DataLoader(testing_dataset, batch_size=32)"
   ]
  },
  {
   "cell_type": "code",
   "execution_count": 79,
   "metadata": {},
   "outputs": [],
   "source": [
    "\"\"\" \n",
    "Defining the basic CNN model to find how well it can predict plant disease. \n",
    "\"\"\"\n",
    "\n",
    "\n",
    "class Base_CNN(nn.Module):\n",
    "    def __init__(self):\n",
    "        super(Base_CNN, self).__init__()\n",
    "        # Definig 1 covolutional layer\n",
    "        self.conv1 = nn.Conv2d(3, 32, 3, padding=1)  # Increased filters\n",
    "        self.conv2 = nn.Conv2d(32, 64, 3, padding=1)\n",
    "        self.pooling = nn.MaxPool2d(2, 2)\n",
    "\n",
    "        # Two fully connected layers\n",
    "        self.fully_connected_1 = nn.Linear(64 * 32 * 32, 128)\n",
    "        self.fully_connected_2 = nn.Linear(128, 3)  # 3 classes\n",
    "\n",
    "    def forward(self, x):\n",
    "        x = self.pooling(torch.relu(self.conv1(x)))\n",
    "        x = self.pooling(torch.relu(self.conv2(x)))  # Second conv + pooling\n",
    "        x = x.view(-1, 64 * 32 * 32)\n",
    "        x = torch.relu(self.fully_connected_1(x))\n",
    "        x = self.fully_connected_2(x)\n",
    "        return x"
   ]
  },
  {
   "cell_type": "code",
   "execution_count": 80,
   "metadata": {},
   "outputs": [],
   "source": [
    "\"\"\" \n",
    "Initializing the Basic CNN model with, \n",
    "    - Loss : CrossEntropyLoss\n",
    "    - Optimizer : SGD\n",
    "    - Learning Rate : 0.01\n",
    "\"\"\"\n",
    "base_model = Base_CNN()\n",
    "criterion_base_CNN = nn.CrossEntropyLoss()\n",
    "optimizer_base_CNN = torch.optim.SGD(base_model.parameters(), lr=0.01)"
   ]
  },
  {
   "cell_type": "code",
   "execution_count": 81,
   "metadata": {},
   "outputs": [
    {
     "name": "stdout",
     "output_type": "stream",
     "text": [
      "Starting training...\n",
      "Completed Base_CNN Epoch : 1/5 :\n",
      "Training Loss: 1.094\n",
      "Training Accuracy: 38.43%\n",
      "Validation Accuracy: 33.33%\n",
      "\n",
      "Completed Base_CNN Epoch : 2/5 :\n",
      "Training Loss: 1.060\n",
      "Training Accuracy: 48.34%\n",
      "Validation Accuracy: 33.33%\n",
      "\n",
      "Completed Base_CNN Epoch : 3/5 :\n",
      "Training Loss: 0.992\n",
      "Training Accuracy: 54.16%\n",
      "Validation Accuracy: 45.00%\n",
      "\n",
      "Completed Base_CNN Epoch : 4/5 :\n",
      "Training Loss: 0.919\n",
      "Training Accuracy: 55.22%\n",
      "Validation Accuracy: 36.67%\n",
      "\n",
      "Completed Base_CNN Epoch : 5/5 :\n",
      "Training Loss: 0.833\n",
      "Training Accuracy: 61.04%\n",
      "Validation Accuracy: 45.00%\n",
      "\n"
     ]
    }
   ],
   "source": [
    "\"\"\"\n",
    "Training the Base CNN model.\n",
    "\"\"\"\n",
    "\n",
    "print(\"Starting training...\")\n",
    "epochs_count = 5\n",
    "\n",
    "for epoch in range(epochs_count):\n",
    "    base_model.train()\n",
    "    epoch_loss = 0.0\n",
    "    training_correct = 0\n",
    "    training_total = 0\n",
    "\n",
    "    for inputs, labels in training_loader:\n",
    "        optimizer_base_CNN.zero_grad()\n",
    "        batch_outputs = base_model(inputs)\n",
    "        batch_loss = criterion_base_CNN(batch_outputs, labels)\n",
    "        batch_loss.backward()\n",
    "        optimizer_base_CNN.step()\n",
    "\n",
    "        epoch_loss += batch_loss.item()\n",
    "        _, predicted = batch_outputs.max(1)\n",
    "        training_total += labels.size(0)\n",
    "        training_correct += predicted.eq(labels).sum().item()\n",
    "\n",
    "    training_accuracy = 100. * training_correct / training_total\n",
    "\n",
    "    \"\"\" \n",
    "    Validation \n",
    "    \"\"\"\n",
    "    base_model.eval()\n",
    "    validation_correct = 0\n",
    "    validation_total = 0\n",
    "    with torch.no_grad():\n",
    "        for inputs, labels in validation_loader:\n",
    "            outputs = base_model(inputs)\n",
    "            _, predicted = outputs.max(1)\n",
    "            validation_total += labels.size(0)\n",
    "            validation_correct += predicted.eq(labels).sum().item()\n",
    "\n",
    "    validation_accuray = 100. * validation_correct / validation_total\n",
    "\n",
    "    print(f'Completed Base_CNN Epoch : {epoch+1}/{epochs_count} :')\n",
    "    print(f'Training Loss: {epoch_loss/len(training_loader):.3f}')\n",
    "    print(f'Training Accuracy: {training_accuracy:.2f}%')\n",
    "    print(f'Validation Accuracy: {validation_accuray:.2f}%\\n')"
   ]
  },
  {
   "cell_type": "code",
   "execution_count": 82,
   "metadata": {},
   "outputs": [
    {
     "name": "stdout",
     "output_type": "stream",
     "text": [
      "Test Accuracy for Base CNN: 45.33%\n"
     ]
    }
   ],
   "source": [
    "\"\"\" \n",
    "Evaluating the base CNN model \n",
    "\"\"\"\n",
    "base_model.eval()\n",
    "testing_correct = 0\n",
    "testing_total = 0\n",
    "with torch.no_grad():\n",
    "    for inputs, labels in testing_loader:\n",
    "        outputs = base_model(inputs)\n",
    "        _, predicted = outputs.max(1)\n",
    "        testing_total += labels.size(0)\n",
    "        testing_correct += predicted.eq(labels).sum().item()\n",
    "\n",
    "test_accuracy = 100. * testing_correct / testing_total\n",
    "print(f'Test Accuracy for Base CNN: {100.*testing_correct/testing_total:.2f}%')"
   ]
  },
  {
   "cell_type": "code",
   "execution_count": null,
   "metadata": {},
   "outputs": [],
   "source": []
  }
 ],
 "metadata": {
  "kernelspec": {
   "display_name": ".venv",
   "language": "python",
   "name": "python3"
  },
  "language_info": {
   "codemirror_mode": {
    "name": "ipython",
    "version": 3
   },
   "file_extension": ".py",
   "mimetype": "text/x-python",
   "name": "python",
   "nbconvert_exporter": "python",
   "pygments_lexer": "ipython3",
   "version": "3.10.4"
  }
 },
 "nbformat": 4,
 "nbformat_minor": 2
}
