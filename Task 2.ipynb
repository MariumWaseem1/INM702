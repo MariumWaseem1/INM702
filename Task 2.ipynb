{
 "cells": [
  {
   "cell_type": "code",
   "execution_count": 27,
   "metadata": {},
   "outputs": [],
   "source": [
    "\"\"\"\n",
    "Importing needed libraries\n",
    "\"\"\"\n",
    "import torch\n",
    "import torch.nn as nn\n",
    "from torch.utils.data import DataLoader\n",
    "from torchvision import datasets, transforms\n",
    "import os"
   ]
  },
  {
   "cell_type": "code",
   "execution_count": 28,
   "metadata": {},
   "outputs": [],
   "source": [
    "\"\"\" \n",
    " Dataset path\n",
    "\"\"\"\n",
    "training_image_path = 'plant disease dataset/Train/Train'\n",
    "validation_image_path = 'plant disease dataset/Validation/Validation'\n",
    "testing_image_path = 'plant disease dataset/Test/Test'"
   ]
  },
  {
   "cell_type": "code",
   "execution_count": 29,
   "metadata": {},
   "outputs": [],
   "source": [
    "\"\"\" \n",
    "Let's define the transformatiions that needed to be applied on the images. \n",
    "\"\"\"\n",
    "image_transformation = transforms.Compose([\n",
    "    transforms.Resize((32, 32)),  # resizing the image to 32x32\n",
    "    transforms.ToTensor()  # Converting as tensor\n",
    "])"
   ]
  },
  {
   "cell_type": "code",
   "execution_count": 30,
   "metadata": {},
   "outputs": [],
   "source": [
    "\"\"\" \n",
    "Definig the dataset by applying transfromations on the datsset images.\n",
    "\"\"\"\n",
    "training_dataset = datasets.ImageFolder(\n",
    "    training_image_path, transform=image_transformation)\n",
    "validation_dataset = datasets.ImageFolder(\n",
    "    validation_image_path, transform=image_transformation)\n",
    "testing_dataset = datasets.ImageFolder(\n",
    "    testing_image_path, transform=image_transformation)"
   ]
  },
  {
   "cell_type": "code",
   "execution_count": 31,
   "metadata": {},
   "outputs": [
    {
     "name": "stdout",
     "output_type": "stream",
     "text": [
      "Size of Training Data :  1322\n",
      "Size of Validation Data :  60\n",
      "Size of Testing Data :  150\n",
      "Unique Classes :  ['Healthy', 'Powdery', 'Rust']\n"
     ]
    }
   ],
   "source": [
    "\"\"\"  \n",
    "Insights of defined dataset. \n",
    "\"\"\"\n",
    "\n",
    "print(\"Size of Training Data : \", len(training_dataset))\n",
    "print(\"Size of Validation Data : \", len(validation_dataset))\n",
    "print(\"Size of Testing Data : \", len(testing_dataset))\n",
    "print(\"Unique Classes : \", training_dataset.classes)"
   ]
  },
  {
   "cell_type": "markdown",
   "metadata": {},
   "source": [
    "## Base CNN model for plant disease prediction"
   ]
  },
  {
   "cell_type": "code",
   "execution_count": 32,
   "metadata": {},
   "outputs": [],
   "source": [
    "\"\"\" \n",
    "Defining the dataloaders. \n",
    "    - batch_size : 32\n",
    "\"\"\"\n",
    "training_loader = DataLoader(training_dataset, batch_size=32, shuffle=True)\n",
    "validation_loader = DataLoader(validation_dataset, batch_size=32)\n",
    "testing_loader = DataLoader(testing_dataset, batch_size=32)"
   ]
  },
  {
   "cell_type": "code",
   "execution_count": 33,
   "metadata": {},
   "outputs": [],
   "source": [
    "\"\"\" \n",
    "Defining the basic CNN model to find how well it can predict plant disease. \n",
    "\"\"\"\n",
    "\n",
    "\n",
    "class Base_CNN(nn.Module):\n",
    "    def __init__(self):\n",
    "        super(Base_CNN, self).__init__()\n",
    "        # Definig 1 covolutional layer\n",
    "        self.conv1 = nn.Conv2d(3, 16, 3, padding=1)\n",
    "        self.pooling = nn.MaxPool2d(2, 2)\n",
    "\n",
    "        # Two fully connected layers\n",
    "        self.fully_connected_1 = nn.Linear(16 * 16 * 16, 64)\n",
    "        self.fully_connected_2 = nn.Linear(64, 3)  # 3 classes\n",
    "\n",
    "    def forward(self, x):\n",
    "        x = self.pooling(torch.relu(self.conv1(x)))\n",
    "        x = x.view(-1, 16 * 16 * 16)\n",
    "        x = torch.relu(self.fully_connected_1(x))\n",
    "        x = self.fully_connected_2(x)\n",
    "        return x"
   ]
  },
  {
   "cell_type": "code",
   "execution_count": 34,
   "metadata": {},
   "outputs": [],
   "source": [
    "\"\"\" \n",
    "Initializing the Basic CNN model with, \n",
    "    - Loss : CrossEntropyLoss\n",
    "    - Optimizer : SGD\n",
    "    - Learning Rate : 0.01\n",
    "\"\"\"\n",
    "base_model = Base_CNN()\n",
    "criterion_base_CNN = nn.CrossEntropyLoss()\n",
    "optimizer_base_CNN = torch.optim.SGD(base_model.parameters(), lr=0.01)"
   ]
  },
  {
   "cell_type": "code",
   "execution_count": null,
   "metadata": {},
   "outputs": [],
   "source": []
  },
  {
   "cell_type": "code",
   "execution_count": null,
   "metadata": {},
   "outputs": [],
   "source": []
  },
  {
   "cell_type": "code",
   "execution_count": null,
   "metadata": {},
   "outputs": [],
   "source": []
  }
 ],
 "metadata": {
  "kernelspec": {
   "display_name": ".venv",
   "language": "python",
   "name": "python3"
  },
  "language_info": {
   "codemirror_mode": {
    "name": "ipython",
    "version": 3
   },
   "file_extension": ".py",
   "mimetype": "text/x-python",
   "name": "python",
   "nbconvert_exporter": "python",
   "pygments_lexer": "ipython3",
   "version": "3.10.4"
  }
 },
 "nbformat": 4,
 "nbformat_minor": 2
}
