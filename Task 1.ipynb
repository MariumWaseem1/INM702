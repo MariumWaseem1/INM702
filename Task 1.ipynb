{
 "cells": [
  {
   "cell_type": "markdown",
   "metadata": {},
   "source": []
  },
  {
   "cell_type": "markdown",
   "metadata": {},
   "source": [
    "## Air Quality and Pollution Assessment"
   ]
  },
  {
   "cell_type": "markdown",
   "metadata": {},
   "source": [
    "Task 1"
   ]
  },
  {
   "cell_type": "markdown",
   "metadata": {},
   "source": [
    "Marium Waseem and Kovarthanan Kesavan "
   ]
  },
  {
   "cell_type": "markdown",
   "metadata": {},
   "source": [
    "Dataset: https://www.kaggle.com/datasets/mujtabamatin/air-quality-and-pollution-assessment/data"
   ]
  },
  {
   "cell_type": "markdown",
   "metadata": {},
   "source": [
    "Github : https://github.com/MariumWaseem1/INM702"
   ]
  },
  {
   "cell_type": "markdown",
   "metadata": {},
   "source": [
    "## Importing needed libraries"
   ]
  },
  {
   "cell_type": "code",
   "execution_count": 1,
   "metadata": {},
   "outputs": [],
   "source": [
    "import numpy as np\n",
    "import pandas as pd\n",
    "import matplotlib.pyplot as plt\n",
    "import seaborn as sns\n",
    "from sklearn.preprocessing import StandardScaler, LabelEncoder\n",
    "from sklearn.model_selection import train_test_split\n",
    "from imblearn.over_sampling import SMOTE\n",
    "from sklearn.preprocessing import OneHotEncoder\n"
   ]
  },
  {
   "cell_type": "markdown",
   "metadata": {},
   "source": [
    "## Dataset Handling"
   ]
  },
  {
   "cell_type": "code",
   "execution_count": 2,
   "metadata": {},
   "outputs": [
    {
     "name": "stdout",
     "output_type": "stream",
     "text": [
      "Dataset Shape: (5000, 10)\n",
      "\n",
      "Missing Values:\n",
      " Temperature                      0\n",
      "Humidity                         0\n",
      "PM2.5                            0\n",
      "PM10                             0\n",
      "NO2                              0\n",
      "SO2                              0\n",
      "CO                               0\n",
      "Proximity_to_Industrial_Areas    0\n",
      "Population_Density               0\n",
      "Air Quality                      0\n",
      "dtype: int64\n"
     ]
    }
   ],
   "source": [
    "df = pd.read_csv('updated_pollution_dataset.csv')\n",
    "print(\"Dataset Shape:\", df.shape)\n",
    "print(\"\\nMissing Values:\\n\", df.isnull().sum())"
   ]
  },
  {
   "cell_type": "code",
   "execution_count": 3,
   "metadata": {},
   "outputs": [],
   "source": [
    "# Handle missing values if any\n",
    "df = df.dropna()"
   ]
  },
  {
   "cell_type": "code",
   "execution_count": 4,
   "metadata": {},
   "outputs": [
    {
     "name": "stdout",
     "output_type": "stream",
     "text": [
      "Columns: ['Temperature', 'Humidity', 'PM2.5', 'PM10', 'NO2', 'SO2', 'CO', 'Proximity_to_Industrial_Areas', 'Population_Density', 'Air Quality']\n"
     ]
    }
   ],
   "source": [
    "df = pd.read_csv('updated_pollution_dataset.csv')\n",
    "print(\"Columns:\", df.columns.tolist())"
   ]
  },
  {
   "cell_type": "code",
   "execution_count": 5,
   "metadata": {},
   "outputs": [
    {
     "data": {
      "image/png": "[encoded data removed]",
      "text/plain": [
       "<Figure size 800x500 with 1 Axes>"
      ]
     },
     "metadata": {},
     "output_type": "display_data"
    }
   ],
   "source": [
    "\"\"\" \n",
    "Visualizing distribution of the Air Quality columns \n",
    "\"\"\"\n",
    "value_counts = df['Air Quality'].value_counts()\n",
    "\n",
    "# Bar plot. \n",
    "plt.figure(figsize=(8, 5))\n",
    "value_counts.plot(kind='bar')\n",
    "plt.title('Distribution of Air Quality Column Values')\n",
    "plt.xlabel('Target Values')\n",
    "plt.ylabel('Count')\n",
    "plt.xticks(rotation=0)\n",
    "plt.savefig('./plots/task1_counts_of_air_quality_column_values.png')\n",
    "plt.show()"
   ]
  },
  {
   "cell_type": "markdown",
   "metadata": {},
   "source": [
    "## Dense Layer"
   ]
  },
  {
   "cell_type": "code",
   "execution_count": 6,
   "metadata": {},
   "outputs": [],
   "source": [
    "class Dense_layer:\n",
    "    \"\"\"\n",
    "    This class is used to define the dense layer in Neural Networks. \n",
    "    This included forward and backward propagation.\n",
    "    \"\"\"\n",
    "    \n",
    "    def __init__(self, n_inputs, n_neurons):\n",
    "        \"\"\"\n",
    "        n_inputs: Number of inputs.\n",
    "        n_neurons: Number of neurons in the layer\n",
    "\n",
    "        Weights are defined with random values.\n",
    "        Biases are defined as zeros.\n",
    "        \"\"\"\n",
    "        self.weights = np.random.rand(\n",
    "            n_inputs, n_neurons) * 0.01 # randomly initialized weights\n",
    "        self.biases = np.zeros((1, n_neurons)) # biases intialized as zeros\n",
    "\n",
    "    def forward_propagation(self, input_layer):\n",
    "        self.input_layer = input_layer\n",
    "        self.output_layer = np.dot(input_layer, self.weights) + self.biases\n",
    "        return self.output_layer\n",
    "    \n",
    "    def backward_propagation(self, output_error, learning_rate):\n",
    "        self.d_weights = np.dot(self.input_layer.T, output_error) / self.input_layer.shape[0]\n",
    "        self.d_biases = np.sum(output_error, axis=0, keepdims=True) / self.input_layer.shape[0]\n",
    "        self.d_inputs = np.dot(output_error, self.weights.T)\n",
    "\n",
    "        # Update weights and biases\n",
    "        self.weights -= learning_rate * self.d_weights\n",
    "        self.biases -= learning_rate * self.d_biases\n",
    "\n",
    "        return self.d_inputs"
   ]
  },
  {
   "cell_type": "markdown",
   "metadata": {},
   "source": [
    "## Sigmoid - Activation Function"
   ]
  },
  {
   "cell_type": "code",
   "execution_count": 7,
   "metadata": {},
   "outputs": [],
   "source": [
    "class Sigmoid:\n",
    "    \"\"\" \n",
    "    This class represents the sigmoid activation function.\n",
    "    \"\"\"\n",
    "    def __init__(self):\n",
    "        pass\n",
    "    \n",
    "    def forward_propagation(self, input):\n",
    "        self.inputs = input\n",
    "        self.output = 1 / (1 + np.exp(-input))\n",
    "        return self.output\n",
    "    \n",
    "    def backward_propagation(self, output_error):\n",
    "        return output_error * (self.output * (1 - self.output))"
   ]
  },
  {
   "cell_type": "markdown",
   "metadata": {},
   "source": [
    "## Relu Activation Function"
   ]
  },
  {
   "cell_type": "code",
   "execution_count": 8,
   "metadata": {},
   "outputs": [],
   "source": [
    "class Relu:\n",
    "    \"\"\" \n",
    "    This class is for define Rectified Linear Unit (Relu) activation funciton.\n",
    "    \"\"\"\n",
    "    def __init__(self):\n",
    "        pass\n",
    "    \n",
    "    def forward_propagation(self, input):\n",
    "        self.input = input\n",
    "        self.output = np.maximum(0, input)\n",
    "        return self.output\n",
    "    \n",
    "    def backward_propagation(self, output_error):\n",
    "        return output_error * (self.output > 0).astype(float)"
   ]
  },
  {
   "cell_type": "markdown",
   "metadata": {},
   "source": [
    "## Softmax - Activation Function"
   ]
  },
  {
   "cell_type": "code",
   "execution_count": 9,
   "metadata": {},
   "outputs": [],
   "source": [
    "class Softmax:\n",
    "    \"\"\" \n",
    "    This class is for define Softmax activation funciton.\n",
    "    \"\"\"\n",
    "    def __init__(self):\n",
    "        pass\n",
    "    \n",
    "    def forward_propagation(self, input):\n",
    "        self.input = input\n",
    "        ex = np.exp(input - np.max(input, axis=1, keepdims=True))\n",
    "        self.output = ex / np.sum(ex, axis=1, keepdims=True)\n",
    "        return self.output\n",
    "    \n",
    "    def backward_propagation(self, output_error):\n",
    "        input = self.output * \\\n",
    "            (output_error - np.sum(output_error * self.output, axis=1, keepdims=True))\n",
    "        return input"
   ]
  },
  {
   "cell_type": "markdown",
   "metadata": {},
   "source": [
    "## Dropout"
   ]
  },
  {
   "cell_type": "code",
   "execution_count": 10,
   "metadata": {},
   "outputs": [],
   "source": [
    "class Dropout:\n",
    "    def __init__(self, dropout_probabality):\n",
    "        self.dropout_probabality = dropout_probabality\n",
    "        self.mask = None\n",
    "\n",
    "    def forward_propagation(self, input):\n",
    "        if self.dropout_probabality < 1.0:\n",
    "            self.mask = (np.random.rand(*input.shape) >\n",
    "                         self.dropout_probabality) / (1 - self.dropout_probabality)\n",
    "\n",
    "            return input * self.mask\n",
    "        return input\n",
    "\n",
    "    def backward_propagation(self, output_error):\n",
    "        if self.dropout_probabality < 1.0:\n",
    "            return output_error * self.mask\n",
    "        return output_error"
   ]
  },
  {
   "cell_type": "markdown",
   "metadata": {},
   "source": [
    "##  Optimizer "
   ]
  },
  {
   "cell_type": "markdown",
   "metadata": {},
   "source": [
    "BatchGD (Batch Gradient Descent)"
   ]
  },
  {
   "cell_type": "code",
   "execution_count": 11,
   "metadata": {},
   "outputs": [],
   "source": [
    "\n",
    "class BatchGD:\n",
    "    def __init__(self, learning_rate=0.01):\n",
    "        self.learning_rate = learning_rate\n",
    "    \n",
    "    def initialize(self, params):\n",
    "        pass  # No initialization needed for basic gradient descent\n",
    "    \n",
    "    def update(self, params, gradients):\n",
    "        # Update using full batch\n",
    "        for layer_idx in range(len(params)):\n",
    "            params[layer_idx]['weights'] -= self.learning_rate * gradients[layer_idx]['d_weights']\n",
    "            params[layer_idx]['biases'] -= self.learning_rate * gradients[layer_idx]['d_biases']\n",
    "\n"
   ]
  },
  {
   "cell_type": "markdown",
   "metadata": {},
   "source": [
    "MiniBatchGD (Mini-Batch Gradient Descent)"
   ]
  },
  {
   "cell_type": "code",
   "execution_count": 12,
   "metadata": {},
   "outputs": [],
   "source": [
    "class MiniBatchGD:\n",
    "    def __init__(self, learning_rate=0.01, batch_size=32):\n",
    "        self.learning_rate = learning_rate\n",
    "        self.batch_size = batch_size\n",
    "    \n",
    "    def initialize(self, params):\n",
    "        pass\n",
    "    \n",
    "    def update(self, params, gradients):\n",
    "        for layer_idx in range(len(params)):\n",
    "            params[layer_idx]['weights'] -= self.learning_rate * gradients[layer_idx]['d_weights']\n",
    "            params[layer_idx]['biases'] -= self.learning_rate * gradients[layer_idx]['d_biases']"
   ]
  },
  {
   "cell_type": "markdown",
   "metadata": {},
   "source": [
    "## Neural Network"
   ]
  },
  {
   "cell_type": "code",
   "execution_count": 13,
   "metadata": {},
   "outputs": [],
   "source": [
    "class Neural_network:\n",
    "    def __init__(self, optimizer_type='batch_gd', **optimizer_params):\n",
    "        self.layers = []\n",
    "        # NEW: Added optimizer selection based on type\n",
    "        if optimizer_type == 'batch_gd':\n",
    "            self.optimizer = BatchGD(**optimizer_params)\n",
    "        else:\n",
    "            self.optimizer = MiniBatchGD(**optimizer_params)\n",
    "\n",
    "    def add_layer(self, layer, activation_func=None, dropout=None):\n",
    "        self.layers.append(\n",
    "            {\"layer\": layer, \"activation_func\": activation_func, \"dropout\": dropout})\n",
    "\n",
    "    # Method to collect parameters for optimizer\n",
    "    def get_parameters(self):\n",
    "        params = []\n",
    "        for layer_details in self.layers:\n",
    "            if hasattr(layer_details[\"layer\"], \"weights\"):\n",
    "                params.append({\n",
    "                    'weights': layer_details[\"layer\"].weights,\n",
    "                    'biases': layer_details[\"layer\"].biases\n",
    "                })\n",
    "        return params\n",
    "\n",
    "    # Method to collect gradients for optimizer\n",
    "    def get_gradients(self):\n",
    "        gradients = []\n",
    "        for layer_details in self.layers:\n",
    "            if hasattr(layer_details[\"layer\"], \"d_weights\"):\n",
    "                gradients.append({\n",
    "                    'd_weights': layer_details[\"layer\"].d_weights,\n",
    "                    'd_biases': layer_details[\"layer\"].d_biases\n",
    "                })\n",
    "        return gradients\n",
    "\n",
    "    def forward_propagation(self, X):\n",
    "        self.input = X\n",
    "        for layer_details in self.layers:\n",
    "            X = layer_details[\"layer\"].forward_propagation(X)\n",
    "            if layer_details[\"activation_func\"] is not None:\n",
    "                X = layer_details[\"activation_func\"].forward_propagation(X)\n",
    "            if layer_details[\"dropout\"] is not None:\n",
    "                X = layer_details[\"dropout\"].forward_propagation(X)\n",
    "        self.output = X\n",
    "        return self.output\n",
    "\n",
    "    def backward_propagation(self, output_error, learning_rate):\n",
    "        for layer_details in reversed(self.layers):\n",
    "            if layer_details[\"dropout\"]:\n",
    "                output_error = layer_details[\"dropout\"].backward_propagation(output_error)\n",
    "            if layer_details[\"activation_func\"]:\n",
    "                output_error = layer_details[\"activation_func\"].backward_propagation(output_error)\n",
    "            output_error = layer_details[\"layer\"].backward_propagation(output_error, learning_rate)\n",
    "        \n",
    "        # Update with optimizer\n",
    "        params = self.get_parameters()\n",
    "        gradients = self.get_gradients()\n",
    "        self.optimizer.update(params, gradients)\n",
    "\n",
    "    def train(self, X, y, epochs, learning_rate=0.01, batch_size=32):\n",
    "        self.optimizer.initialize(self.get_parameters())\n",
    "        \n",
    "        for epoch in range(epochs):\n",
    "            total_loss = 0\n",
    "            \n",
    "            #  batch gradient descent, using entire dataset\n",
    "            if isinstance(self.optimizer, BatchGD):\n",
    "                predictions = self.forward_propagation(X)\n",
    "                loss = -np.mean(np.sum(y * np.log(predictions + 1e-7), axis=1))\n",
    "                total_loss = loss\n",
    "                output_error = predictions - y\n",
    "                self.backward_propagation(output_error, learning_rate)\n",
    "                avg_loss = total_loss\n",
    "            \n",
    "            # mini-batch, process in batches\n",
    "            else:\n",
    "                for i in range(0, X.shape[0], batch_size):\n",
    "                    X_batch = X[i:i+batch_size]\n",
    "                    y_batch = y[i:i+batch_size]\n",
    "                    \n",
    "                    predictions = self.forward_propagation(X_batch)\n",
    "                    loss = -np.mean(np.sum(y_batch * np.log(predictions + 1e-7), axis=1))\n",
    "                    total_loss += loss\n",
    "                    \n",
    "                    output_error = predictions - y_batch\n",
    "                    self.backward_propagation(output_error, learning_rate)\n",
    "                \n",
    "                avg_loss = total_loss / (X.shape[0] // batch_size)\n",
    "            \n",
    "            print(f\"Epoch {epoch+1}/{epochs}, Loss: {avg_loss:.4f}\")\n",
    "\n",
    "    def predict(self, X):\n",
    "        prediction = self.forward_propagation(X)\n",
    "        return np.argmax(prediction, axis=1)"
   ]
  },
  {
   "cell_type": "markdown",
   "metadata": {},
   "source": [
    "## Data Preprocessing, Balancing, and Scaling for Air Quality Prediction"
   ]
  },
  {
   "cell_type": "markdown",
   "metadata": {},
   "source": [
    "Loading the dataset and feature selection"
   ]
  },
  {
   "cell_type": "code",
   "execution_count": 14,
   "metadata": {},
   "outputs": [],
   "source": [
    "df = pd.read_csv(\"updated_pollution_dataset.csv\")\n",
    "\n",
    "X = df.drop(\"Air Quality\", axis=1).values\n",
    "y = df[\"Air Quality\"].values"
   ]
  },
  {
   "cell_type": "markdown",
   "metadata": {},
   "source": [
    "One-hot encoding of the target variable"
   ]
  },
  {
   "cell_type": "code",
   "execution_count": 15,
   "metadata": {},
   "outputs": [],
   "source": [
    "encoder = OneHotEncoder()\n",
    "y_one_hot = encoder.fit_transform(y.reshape(-1, 1)).toarray()"
   ]
  },
  {
   "cell_type": "markdown",
   "metadata": {},
   "source": [
    "Balancing the dataset using SMOTE"
   ]
  },
  {
   "cell_type": "code",
   "execution_count": 16,
   "metadata": {},
   "outputs": [],
   "source": [
    "# Balance classes using SMOTE\n",
    "smote = SMOTE(random_state=42)\n",
    "X_balanced, y_balanced = smote.fit_resample(X, np.argmax(y_one_hot, axis=1))"
   ]
  },
  {
   "cell_type": "code",
   "execution_count": 17,
   "metadata": {},
   "outputs": [],
   "source": [
    "# Convert y_balanced back to numeric values (already integers after SMOTE)\n",
    "y_balanced = np.array(y_balanced).reshape(-1, 1)"
   ]
  },
  {
   "cell_type": "code",
   "execution_count": 18,
   "metadata": {},
   "outputs": [],
   "source": [
    "# One-hot encode the balanced target\n",
    "y_balanced = encoder.fit_transform(y_balanced).toarray()"
   ]
  },
  {
   "cell_type": "markdown",
   "metadata": {},
   "source": [
    "Data Split and Scaling features "
   ]
  },
  {
   "cell_type": "code",
   "execution_count": 19,
   "metadata": {},
   "outputs": [],
   "source": [
    "# Split data into train and test sets\n",
    "X_train, X_test, y_train, y_test = train_test_split(X_balanced, y_balanced, test_size=0.2, random_state=42)\n",
    "\n"
   ]
  },
  {
   "cell_type": "code",
   "execution_count": 20,
   "metadata": {},
   "outputs": [],
   "source": [
    "# Scale features\n",
    "scaler = StandardScaler()\n",
    "X_train = scaler.fit_transform(X_train)\n",
    "X_test = scaler.transform(X_test)"
   ]
  },
  {
   "cell_type": "markdown",
   "metadata": {},
   "source": [
    " Neural Network Initialization and Testing "
   ]
  },
  {
   "cell_type": "markdown",
   "metadata": {},
   "source": [
    "BatchGD"
   ]
  },
  {
   "cell_type": "code",
   "execution_count": 21,
   "metadata": {},
   "outputs": [],
   "source": [
    "nn_batch = Neural_network(optimizer_type='BatchGD', learning_rate=0.01)\n",
    "nn_batch.add_layer(Dense_layer(X_train.shape[1], 16), Relu(), Dropout(0.05))\n",
    "nn_batch.add_layer(Dense_layer(16, 8), Relu(), Dropout(0.05))\n",
    "nn_batch.add_layer(Dense_layer(8, 4), Softmax())\n"
   ]
  },
  {
   "cell_type": "markdown",
   "metadata": {},
   "source": [
    "MiniBatchGD"
   ]
  },
  {
   "cell_type": "code",
   "execution_count": 22,
   "metadata": {},
   "outputs": [],
   "source": [
    "nn_minibatch = Neural_network(optimizer_type='MiniBatchGD', learning_rate=0.01)\n",
    "nn_minibatch.add_layer(Dense_layer(X_train.shape[1], 16), Relu(), Dropout(0.05))\n",
    "nn_minibatch.add_layer(Dense_layer(16, 8), Relu(), Dropout(0.05))\n",
    "nn_minibatch.add_layer(Dense_layer(8, 4), Softmax())"
   ]
  },
  {
   "cell_type": "code",
   "execution_count": 23,
   "metadata": {},
   "outputs": [
    {
     "name": "stdout",
     "output_type": "stream",
     "text": [
      "\n",
      "Training with Batch Gradient Descent:\n",
      "Epoch 1/300, Loss: 1.3863\n",
      "Epoch 2/300, Loss: 1.3863\n",
      "Epoch 3/300, Loss: 1.3863\n",
      "Epoch 4/300, Loss: 1.3863\n",
      "Epoch 5/300, Loss: 1.3863\n",
      "Epoch 6/300, Loss: 1.3863\n",
      "Epoch 7/300, Loss: 1.3863\n",
      "Epoch 8/300, Loss: 1.3863\n",
      "Epoch 9/300, Loss: 1.3863\n",
      "Epoch 10/300, Loss: 1.3863\n",
      "Epoch 11/300, Loss: 1.3863\n",
      "Epoch 12/300, Loss: 1.3863\n",
      "Epoch 13/300, Loss: 1.3863\n",
      "Epoch 14/300, Loss: 1.3862\n",
      "Epoch 15/300, Loss: 1.3862\n",
      "Epoch 16/300, Loss: 1.3862\n",
      "Epoch 17/300, Loss: 1.3862\n",
      "Epoch 18/300, Loss: 1.3862\n",
      "Epoch 19/300, Loss: 1.3862\n",
      "Epoch 20/300, Loss: 1.3862\n",
      "Epoch 21/300, Loss: 1.3862\n",
      "Epoch 22/300, Loss: 1.3862\n",
      "Epoch 23/300, Loss: 1.3862\n",
      "Epoch 24/300, Loss: 1.3862\n",
      "Epoch 25/300, Loss: 1.3861\n",
      "Epoch 26/300, Loss: 1.3861\n",
      "Epoch 27/300, Loss: 1.3861\n",
      "Epoch 28/300, Loss: 1.3861\n",
      "Epoch 29/300, Loss: 1.3860\n",
      "Epoch 30/300, Loss: 1.3860\n",
      "Epoch 31/300, Loss: 1.3859\n",
      "Epoch 32/300, Loss: 1.3859\n",
      "Epoch 33/300, Loss: 1.3858\n",
      "Epoch 34/300, Loss: 1.3857\n",
      "Epoch 35/300, Loss: 1.3856\n",
      "Epoch 36/300, Loss: 1.3854\n",
      "Epoch 37/300, Loss: 1.3852\n",
      "Epoch 38/300, Loss: 1.3849\n",
      "Epoch 39/300, Loss: 1.3845\n",
      "Epoch 40/300, Loss: 1.3839\n",
      "Epoch 41/300, Loss: 1.3831\n",
      "Epoch 42/300, Loss: 1.3818\n",
      "Epoch 43/300, Loss: 1.3798\n",
      "Epoch 44/300, Loss: 1.3763\n",
      "Epoch 45/300, Loss: 1.3698\n",
      "Epoch 46/300, Loss: 1.3563\n",
      "Epoch 47/300, Loss: 1.3255\n",
      "Epoch 48/300, Loss: 1.2549\n",
      "Epoch 49/300, Loss: 1.1648\n",
      "Epoch 50/300, Loss: 1.1007\n",
      "Epoch 51/300, Loss: 1.0478\n",
      "Epoch 52/300, Loss: 1.0032\n",
      "Epoch 53/300, Loss: 0.9651\n",
      "Epoch 54/300, Loss: 0.9310\n",
      "Epoch 55/300, Loss: 0.9022\n",
      "Epoch 56/300, Loss: 0.8749\n",
      "Epoch 57/300, Loss: 0.8534\n",
      "Epoch 58/300, Loss: 0.8335\n",
      "Epoch 59/300, Loss: 0.8152\n",
      "Epoch 60/300, Loss: 0.8000\n",
      "Epoch 61/300, Loss: 0.7856\n",
      "Epoch 62/300, Loss: 0.7720\n",
      "Epoch 63/300, Loss: 0.7609\n",
      "Epoch 64/300, Loss: 0.7500\n",
      "Epoch 65/300, Loss: 0.7400\n",
      "Epoch 66/300, Loss: 0.7304\n",
      "Epoch 67/300, Loss: 0.7237\n",
      "Epoch 68/300, Loss: 0.7164\n",
      "Epoch 69/300, Loss: 0.7089\n",
      "Epoch 70/300, Loss: 0.7026\n",
      "Epoch 71/300, Loss: 0.6970\n",
      "Epoch 72/300, Loss: 0.6923\n",
      "Epoch 73/300, Loss: 0.6880\n",
      "Epoch 74/300, Loss: 0.6819\n",
      "Epoch 75/300, Loss: 0.6765\n",
      "Epoch 76/300, Loss: 0.6715\n",
      "Epoch 77/300, Loss: 0.6675\n",
      "Epoch 78/300, Loss: 0.6650\n",
      "Epoch 79/300, Loss: 0.6621\n",
      "Epoch 80/300, Loss: 0.6578\n",
      "Epoch 81/300, Loss: 0.6549\n",
      "Epoch 82/300, Loss: 0.6519\n",
      "Epoch 83/300, Loss: 0.6484\n",
      "Epoch 84/300, Loss: 0.6468\n",
      "Epoch 85/300, Loss: 0.6420\n",
      "Epoch 86/300, Loss: 0.6410\n",
      "Epoch 87/300, Loss: 0.6377\n",
      "Epoch 88/300, Loss: 0.6352\n",
      "Epoch 89/300, Loss: 0.6333\n",
      "Epoch 90/300, Loss: 0.6312\n",
      "Epoch 91/300, Loss: 0.6295\n",
      "Epoch 92/300, Loss: 0.6268\n",
      "Epoch 93/300, Loss: 0.6240\n",
      "Epoch 94/300, Loss: 0.6221\n",
      "Epoch 95/300, Loss: 0.6211\n",
      "Epoch 96/300, Loss: 0.6203\n",
      "Epoch 97/300, Loss: 0.6152\n",
      "Epoch 98/300, Loss: 0.6157\n",
      "Epoch 99/300, Loss: 0.6145\n",
      "Epoch 100/300, Loss: 0.6132\n",
      "Epoch 101/300, Loss: 0.6113\n",
      "Epoch 102/300, Loss: 0.6088\n",
      "Epoch 103/300, Loss: 0.6064\n",
      "Epoch 104/300, Loss: 0.6059\n",
      "Epoch 105/300, Loss: 0.6029\n",
      "Epoch 106/300, Loss: 0.6015\n",
      "Epoch 107/300, Loss: 0.6005\n",
      "Epoch 108/300, Loss: 0.5990\n",
      "Epoch 109/300, Loss: 0.5977\n",
      "Epoch 110/300, Loss: 0.5947\n",
      "Epoch 111/300, Loss: 0.5933\n",
      "Epoch 112/300, Loss: 0.5946\n",
      "Epoch 113/300, Loss: 0.5900\n",
      "Epoch 114/300, Loss: 0.5870\n",
      "Epoch 115/300, Loss: 0.5847\n",
      "Epoch 116/300, Loss: 0.5857\n",
      "Epoch 117/300, Loss: 0.5829\n",
      "Epoch 118/300, Loss: 0.5785\n",
      "Epoch 119/300, Loss: 0.5731\n",
      "Epoch 120/300, Loss: 0.5680\n",
      "Epoch 121/300, Loss: 0.5574\n",
      "Epoch 122/300, Loss: 0.5439\n",
      "Epoch 123/300, Loss: 0.5287\n",
      "Epoch 124/300, Loss: 0.5110\n",
      "Epoch 125/300, Loss: 0.4937\n",
      "Epoch 126/300, Loss: 0.4812\n",
      "Epoch 127/300, Loss: 0.4640\n",
      "Epoch 128/300, Loss: 0.4477\n",
      "Epoch 129/300, Loss: 0.4346\n",
      "Epoch 130/300, Loss: 0.4225\n",
      "Epoch 131/300, Loss: 0.4151\n",
      "Epoch 132/300, Loss: 0.4015\n",
      "Epoch 133/300, Loss: 0.3930\n",
      "Epoch 134/300, Loss: 0.3843\n",
      "Epoch 135/300, Loss: 0.3789\n",
      "Epoch 136/300, Loss: 0.3694\n",
      "Epoch 137/300, Loss: 0.3620\n",
      "Epoch 138/300, Loss: 0.3562\n",
      "Epoch 139/300, Loss: 0.3508\n",
      "Epoch 140/300, Loss: 0.3441\n",
      "Epoch 141/300, Loss: 0.3394\n",
      "Epoch 142/300, Loss: 0.3386\n",
      "Epoch 143/300, Loss: 0.3299\n",
      "Epoch 144/300, Loss: 0.3249\n",
      "Epoch 145/300, Loss: 0.3232\n",
      "Epoch 146/300, Loss: 0.3223\n",
      "Epoch 147/300, Loss: 0.3162\n",
      "Epoch 148/300, Loss: 0.3138\n",
      "Epoch 149/300, Loss: 0.3107\n",
      "Epoch 150/300, Loss: 0.3071\n",
      "Epoch 151/300, Loss: 0.3054\n",
      "Epoch 152/300, Loss: 0.3019\n",
      "Epoch 153/300, Loss: 0.3022\n",
      "Epoch 154/300, Loss: 0.2977\n",
      "Epoch 155/300, Loss: 0.2953\n",
      "Epoch 156/300, Loss: 0.2912\n",
      "Epoch 157/300, Loss: 0.2866\n",
      "Epoch 158/300, Loss: 0.2896\n",
      "Epoch 159/300, Loss: 0.2870\n",
      "Epoch 160/300, Loss: 0.2848\n",
      "Epoch 161/300, Loss: 0.2847\n",
      "Epoch 162/300, Loss: 0.2834\n",
      "Epoch 163/300, Loss: 0.2807\n",
      "Epoch 164/300, Loss: 0.2816\n",
      "Epoch 165/300, Loss: 0.2768\n",
      "Epoch 166/300, Loss: 0.2777\n",
      "Epoch 167/300, Loss: 0.2767\n",
      "Epoch 168/300, Loss: 0.2760\n",
      "Epoch 169/300, Loss: 0.2725\n",
      "Epoch 170/300, Loss: 0.2737\n",
      "Epoch 171/300, Loss: 0.2709\n",
      "Epoch 172/300, Loss: 0.2667\n",
      "Epoch 173/300, Loss: 0.2664\n",
      "Epoch 174/300, Loss: 0.2685\n",
      "Epoch 175/300, Loss: 0.2684\n",
      "Epoch 176/300, Loss: 0.2672\n",
      "Epoch 177/300, Loss: 0.2627\n",
      "Epoch 178/300, Loss: 0.2630\n",
      "Epoch 179/300, Loss: 0.2625\n",
      "Epoch 180/300, Loss: 0.2639\n",
      "Epoch 181/300, Loss: 0.2605\n",
      "Epoch 182/300, Loss: 0.2604\n",
      "Epoch 183/300, Loss: 0.2575\n",
      "Epoch 184/300, Loss: 0.2590\n",
      "Epoch 185/300, Loss: 0.2588\n",
      "Epoch 186/300, Loss: 0.2589\n",
      "Epoch 187/300, Loss: 0.2539\n",
      "Epoch 188/300, Loss: 0.2567\n",
      "Epoch 189/300, Loss: 0.2537\n",
      "Epoch 190/300, Loss: 0.2519\n",
      "Epoch 191/300, Loss: 0.2544\n",
      "Epoch 192/300, Loss: 0.2524\n",
      "Epoch 193/300, Loss: 0.2499\n",
      "Epoch 194/300, Loss: 0.2505\n",
      "Epoch 195/300, Loss: 0.2519\n",
      "Epoch 196/300, Loss: 0.2494\n",
      "Epoch 197/300, Loss: 0.2516\n",
      "Epoch 198/300, Loss: 0.2510\n",
      "Epoch 199/300, Loss: 0.2508\n",
      "Epoch 200/300, Loss: 0.2478\n",
      "Epoch 201/300, Loss: 0.2483\n",
      "Epoch 202/300, Loss: 0.2495\n",
      "Epoch 203/300, Loss: 0.2488\n",
      "Epoch 204/300, Loss: 0.2469\n",
      "Epoch 205/300, Loss: 0.2446\n",
      "Epoch 206/300, Loss: 0.2479\n",
      "Epoch 207/300, Loss: 0.2470\n",
      "Epoch 208/300, Loss: 0.2453\n",
      "Epoch 209/300, Loss: 0.2456\n",
      "Epoch 210/300, Loss: 0.2422\n",
      "Epoch 211/300, Loss: 0.2436\n",
      "Epoch 212/300, Loss: 0.2447\n",
      "Epoch 213/300, Loss: 0.2441\n",
      "Epoch 214/300, Loss: 0.2430\n",
      "Epoch 215/300, Loss: 0.2420\n",
      "Epoch 216/300, Loss: 0.2403\n",
      "Epoch 217/300, Loss: 0.2371\n",
      "Epoch 218/300, Loss: 0.2383\n",
      "Epoch 219/300, Loss: 0.2388\n",
      "Epoch 220/300, Loss: 0.2377\n",
      "Epoch 221/300, Loss: 0.2368\n",
      "Epoch 222/300, Loss: 0.2388\n",
      "Epoch 223/300, Loss: 0.2357\n",
      "Epoch 224/300, Loss: 0.2372\n",
      "Epoch 225/300, Loss: 0.2410\n",
      "Epoch 226/300, Loss: 0.2344\n",
      "Epoch 227/300, Loss: 0.2341\n",
      "Epoch 228/300, Loss: 0.2354\n",
      "Epoch 229/300, Loss: 0.2343\n",
      "Epoch 230/300, Loss: 0.2361\n",
      "Epoch 231/300, Loss: 0.2322\n",
      "Epoch 232/300, Loss: 0.2315\n",
      "Epoch 233/300, Loss: 0.2321\n",
      "Epoch 234/300, Loss: 0.2323\n",
      "Epoch 235/300, Loss: 0.2341\n",
      "Epoch 236/300, Loss: 0.2319\n",
      "Epoch 237/300, Loss: 0.2276\n",
      "Epoch 238/300, Loss: 0.2323\n",
      "Epoch 239/300, Loss: 0.2291\n",
      "Epoch 240/300, Loss: 0.2320\n",
      "Epoch 241/300, Loss: 0.2345\n",
      "Epoch 242/300, Loss: 0.2291\n",
      "Epoch 243/300, Loss: 0.2276\n",
      "Epoch 244/300, Loss: 0.2292\n",
      "Epoch 245/300, Loss: 0.2280\n",
      "Epoch 246/300, Loss: 0.2309\n",
      "Epoch 247/300, Loss: 0.2273\n",
      "Epoch 248/300, Loss: 0.2272\n",
      "Epoch 249/300, Loss: 0.2273\n",
      "Epoch 250/300, Loss: 0.2246\n",
      "Epoch 251/300, Loss: 0.2270\n",
      "Epoch 252/300, Loss: 0.2232\n",
      "Epoch 253/300, Loss: 0.2255\n",
      "Epoch 254/300, Loss: 0.2232\n",
      "Epoch 255/300, Loss: 0.2271\n",
      "Epoch 256/300, Loss: 0.2246\n",
      "Epoch 257/300, Loss: 0.2223\n",
      "Epoch 258/300, Loss: 0.2214\n",
      "Epoch 259/300, Loss: 0.2237\n",
      "Epoch 260/300, Loss: 0.2232\n",
      "Epoch 261/300, Loss: 0.2207\n",
      "Epoch 262/300, Loss: 0.2212\n",
      "Epoch 263/300, Loss: 0.2248\n",
      "Epoch 264/300, Loss: 0.2215\n",
      "Epoch 265/300, Loss: 0.2196\n",
      "Epoch 266/300, Loss: 0.2195\n",
      "Epoch 267/300, Loss: 0.2173\n",
      "Epoch 268/300, Loss: 0.2186\n",
      "Epoch 269/300, Loss: 0.2154\n",
      "Epoch 270/300, Loss: 0.2214\n",
      "Epoch 271/300, Loss: 0.2188\n",
      "Epoch 272/300, Loss: 0.2167\n",
      "Epoch 273/300, Loss: 0.2144\n",
      "Epoch 274/300, Loss: 0.2158\n",
      "Epoch 275/300, Loss: 0.2170\n",
      "Epoch 276/300, Loss: 0.2188\n",
      "Epoch 277/300, Loss: 0.2181\n",
      "Epoch 278/300, Loss: 0.2153\n",
      "Epoch 279/300, Loss: 0.2144\n",
      "Epoch 280/300, Loss: 0.2157\n",
      "Epoch 281/300, Loss: 0.2149\n",
      "Epoch 282/300, Loss: 0.2140\n",
      "Epoch 283/300, Loss: 0.2164\n",
      "Epoch 284/300, Loss: 0.2167\n",
      "Epoch 285/300, Loss: 0.2122\n",
      "Epoch 286/300, Loss: 0.2144\n",
      "Epoch 287/300, Loss: 0.2145\n",
      "Epoch 288/300, Loss: 0.2117\n",
      "Epoch 289/300, Loss: 0.2128\n",
      "Epoch 290/300, Loss: 0.2115\n",
      "Epoch 291/300, Loss: 0.2124\n",
      "Epoch 292/300, Loss: 0.2124\n",
      "Epoch 293/300, Loss: 0.2108\n",
      "Epoch 294/300, Loss: 0.2111\n",
      "Epoch 295/300, Loss: 0.2087\n",
      "Epoch 296/300, Loss: 0.2105\n",
      "Epoch 297/300, Loss: 0.2088\n",
      "Epoch 298/300, Loss: 0.2096\n",
      "Epoch 299/300, Loss: 0.2112\n",
      "Epoch 300/300, Loss: 0.2096\n"
     ]
    }
   ],
   "source": [
    "# Training the network with batch gradient descent\n",
    "print(\"\\nTraining with Batch Gradient Descent:\")\n",
    "nn_batch.train(X_train, y_train, epochs=300, learning_rate=0.01)  # No batch_size for full batch"
   ]
  },
  {
   "cell_type": "code",
   "execution_count": 24,
   "metadata": {},
   "outputs": [
    {
     "name": "stdout",
     "output_type": "stream",
     "text": [
      "\n",
      "Training with Mini-batch Gradient Descent:\n",
      "Epoch 1/300, Loss: 1.3863\n",
      "Epoch 2/300, Loss: 1.3863\n",
      "Epoch 3/300, Loss: 1.3863\n",
      "Epoch 4/300, Loss: 1.3863\n",
      "Epoch 5/300, Loss: 1.3863\n",
      "Epoch 6/300, Loss: 1.3863\n",
      "Epoch 7/300, Loss: 1.3863\n",
      "Epoch 8/300, Loss: 1.3863\n",
      "Epoch 9/300, Loss: 1.3863\n",
      "Epoch 10/300, Loss: 1.3863\n",
      "Epoch 11/300, Loss: 1.3862\n",
      "Epoch 12/300, Loss: 1.3862\n",
      "Epoch 13/300, Loss: 1.3862\n",
      "Epoch 14/300, Loss: 1.3862\n",
      "Epoch 15/300, Loss: 1.3862\n",
      "Epoch 16/300, Loss: 1.3862\n",
      "Epoch 17/300, Loss: 1.3862\n",
      "Epoch 18/300, Loss: 1.3862\n",
      "Epoch 19/300, Loss: 1.3862\n",
      "Epoch 20/300, Loss: 1.3862\n",
      "Epoch 21/300, Loss: 1.3862\n",
      "Epoch 22/300, Loss: 1.3862\n",
      "Epoch 23/300, Loss: 1.3862\n",
      "Epoch 24/300, Loss: 1.3862\n",
      "Epoch 25/300, Loss: 1.3862\n",
      "Epoch 26/300, Loss: 1.3862\n",
      "Epoch 27/300, Loss: 1.3862\n",
      "Epoch 28/300, Loss: 1.3862\n",
      "Epoch 29/300, Loss: 1.3862\n",
      "Epoch 30/300, Loss: 1.3862\n",
      "Epoch 31/300, Loss: 1.3862\n",
      "Epoch 32/300, Loss: 1.3862\n",
      "Epoch 33/300, Loss: 1.3862\n",
      "Epoch 34/300, Loss: 1.3862\n",
      "Epoch 35/300, Loss: 1.3862\n",
      "Epoch 36/300, Loss: 1.3862\n",
      "Epoch 37/300, Loss: 1.3862\n",
      "Epoch 38/300, Loss: 1.3862\n",
      "Epoch 39/300, Loss: 1.3862\n",
      "Epoch 40/300, Loss: 1.3862\n",
      "Epoch 41/300, Loss: 1.3862\n",
      "Epoch 42/300, Loss: 1.3862\n",
      "Epoch 43/300, Loss: 1.3862\n",
      "Epoch 44/300, Loss: 1.3862\n",
      "Epoch 45/300, Loss: 1.3862\n",
      "Epoch 46/300, Loss: 1.3862\n",
      "Epoch 47/300, Loss: 1.3861\n",
      "Epoch 48/300, Loss: 1.3861\n",
      "Epoch 49/300, Loss: 1.3861\n",
      "Epoch 50/300, Loss: 1.3861\n",
      "Epoch 51/300, Loss: 1.3861\n",
      "Epoch 52/300, Loss: 1.3861\n",
      "Epoch 53/300, Loss: 1.3861\n",
      "Epoch 54/300, Loss: 1.3861\n",
      "Epoch 55/300, Loss: 1.3861\n",
      "Epoch 56/300, Loss: 1.3861\n",
      "Epoch 57/300, Loss: 1.3861\n",
      "Epoch 58/300, Loss: 1.3860\n",
      "Epoch 59/300, Loss: 1.3860\n",
      "Epoch 60/300, Loss: 1.3860\n",
      "Epoch 61/300, Loss: 1.3860\n",
      "Epoch 62/300, Loss: 1.3860\n",
      "Epoch 63/300, Loss: 1.3859\n",
      "Epoch 64/300, Loss: 1.3859\n",
      "Epoch 65/300, Loss: 1.3859\n",
      "Epoch 66/300, Loss: 1.3859\n",
      "Epoch 67/300, Loss: 1.3858\n",
      "Epoch 68/300, Loss: 1.3858\n",
      "Epoch 69/300, Loss: 1.3857\n",
      "Epoch 70/300, Loss: 1.3857\n",
      "Epoch 71/300, Loss: 1.3857\n",
      "Epoch 72/300, Loss: 1.3856\n",
      "Epoch 73/300, Loss: 1.3855\n",
      "Epoch 74/300, Loss: 1.3854\n",
      "Epoch 75/300, Loss: 1.3854\n",
      "Epoch 76/300, Loss: 1.3853\n",
      "Epoch 77/300, Loss: 1.3851\n",
      "Epoch 78/300, Loss: 1.3850\n",
      "Epoch 79/300, Loss: 1.3849\n",
      "Epoch 80/300, Loss: 1.3847\n",
      "Epoch 81/300, Loss: 1.3845\n",
      "Epoch 82/300, Loss: 1.3842\n",
      "Epoch 83/300, Loss: 1.3839\n",
      "Epoch 84/300, Loss: 1.3835\n",
      "Epoch 85/300, Loss: 1.3831\n",
      "Epoch 86/300, Loss: 1.3825\n",
      "Epoch 87/300, Loss: 1.3818\n",
      "Epoch 88/300, Loss: 1.3809\n",
      "Epoch 89/300, Loss: 1.3797\n",
      "Epoch 90/300, Loss: 1.3782\n",
      "Epoch 91/300, Loss: 1.3763\n",
      "Epoch 92/300, Loss: 1.3736\n",
      "Epoch 93/300, Loss: 1.3699\n",
      "Epoch 94/300, Loss: 1.3647\n",
      "Epoch 95/300, Loss: 1.3568\n",
      "Epoch 96/300, Loss: 1.3451\n",
      "Epoch 97/300, Loss: 1.3262\n",
      "Epoch 98/300, Loss: 1.2971\n",
      "Epoch 99/300, Loss: 1.2544\n",
      "Epoch 100/300, Loss: 1.2058\n",
      "Epoch 101/300, Loss: 1.1630\n",
      "Epoch 102/300, Loss: 1.1284\n",
      "Epoch 103/300, Loss: 1.0987\n",
      "Epoch 104/300, Loss: 1.0732\n",
      "Epoch 105/300, Loss: 1.0483\n",
      "Epoch 106/300, Loss: 1.0247\n",
      "Epoch 107/300, Loss: 1.0043\n",
      "Epoch 108/300, Loss: 0.9839\n",
      "Epoch 109/300, Loss: 0.9655\n",
      "Epoch 110/300, Loss: 0.9475\n",
      "Epoch 111/300, Loss: 0.9318\n",
      "Epoch 112/300, Loss: 0.9171\n",
      "Epoch 113/300, Loss: 0.9028\n",
      "Epoch 114/300, Loss: 0.8878\n",
      "Epoch 115/300, Loss: 0.8765\n",
      "Epoch 116/300, Loss: 0.8645\n",
      "Epoch 117/300, Loss: 0.8531\n",
      "Epoch 118/300, Loss: 0.8429\n",
      "Epoch 119/300, Loss: 0.8349\n",
      "Epoch 120/300, Loss: 0.8249\n",
      "Epoch 121/300, Loss: 0.8157\n",
      "Epoch 122/300, Loss: 0.8079\n",
      "Epoch 123/300, Loss: 0.7999\n",
      "Epoch 124/300, Loss: 0.7927\n",
      "Epoch 125/300, Loss: 0.7857\n",
      "Epoch 126/300, Loss: 0.7785\n",
      "Epoch 127/300, Loss: 0.7720\n",
      "Epoch 128/300, Loss: 0.7656\n",
      "Epoch 129/300, Loss: 0.7619\n",
      "Epoch 130/300, Loss: 0.7557\n",
      "Epoch 131/300, Loss: 0.7505\n",
      "Epoch 132/300, Loss: 0.7468\n",
      "Epoch 133/300, Loss: 0.7412\n",
      "Epoch 134/300, Loss: 0.7376\n",
      "Epoch 135/300, Loss: 0.7323\n",
      "Epoch 136/300, Loss: 0.7294\n",
      "Epoch 137/300, Loss: 0.7235\n",
      "Epoch 138/300, Loss: 0.7209\n",
      "Epoch 139/300, Loss: 0.7169\n",
      "Epoch 140/300, Loss: 0.7129\n",
      "Epoch 141/300, Loss: 0.7115\n",
      "Epoch 142/300, Loss: 0.7082\n",
      "Epoch 143/300, Loss: 0.7053\n",
      "Epoch 144/300, Loss: 0.7012\n",
      "Epoch 145/300, Loss: 0.6973\n",
      "Epoch 146/300, Loss: 0.6956\n",
      "Epoch 147/300, Loss: 0.6922\n",
      "Epoch 148/300, Loss: 0.6914\n",
      "Epoch 149/300, Loss: 0.6879\n",
      "Epoch 150/300, Loss: 0.6845\n",
      "Epoch 151/300, Loss: 0.6824\n",
      "Epoch 152/300, Loss: 0.6791\n",
      "Epoch 153/300, Loss: 0.6796\n",
      "Epoch 154/300, Loss: 0.6751\n",
      "Epoch 155/300, Loss: 0.6744\n",
      "Epoch 156/300, Loss: 0.6716\n",
      "Epoch 157/300, Loss: 0.6708\n",
      "Epoch 158/300, Loss: 0.6688\n",
      "Epoch 159/300, Loss: 0.6664\n",
      "Epoch 160/300, Loss: 0.6633\n",
      "Epoch 161/300, Loss: 0.6630\n",
      "Epoch 162/300, Loss: 0.6604\n",
      "Epoch 163/300, Loss: 0.6593\n",
      "Epoch 164/300, Loss: 0.6574\n",
      "Epoch 165/300, Loss: 0.6554\n",
      "Epoch 166/300, Loss: 0.6535\n",
      "Epoch 167/300, Loss: 0.6525\n",
      "Epoch 168/300, Loss: 0.6507\n",
      "Epoch 169/300, Loss: 0.6476\n",
      "Epoch 170/300, Loss: 0.6490\n",
      "Epoch 171/300, Loss: 0.6464\n",
      "Epoch 172/300, Loss: 0.6446\n",
      "Epoch 173/300, Loss: 0.6443\n",
      "Epoch 174/300, Loss: 0.6431\n",
      "Epoch 175/300, Loss: 0.6409\n",
      "Epoch 176/300, Loss: 0.6405\n",
      "Epoch 177/300, Loss: 0.6390\n",
      "Epoch 178/300, Loss: 0.6373\n",
      "Epoch 179/300, Loss: 0.6363\n",
      "Epoch 180/300, Loss: 0.6344\n",
      "Epoch 181/300, Loss: 0.6327\n",
      "Epoch 182/300, Loss: 0.6313\n",
      "Epoch 183/300, Loss: 0.6319\n",
      "Epoch 184/300, Loss: 0.6295\n",
      "Epoch 185/300, Loss: 0.6287\n",
      "Epoch 186/300, Loss: 0.6263\n",
      "Epoch 187/300, Loss: 0.6276\n",
      "Epoch 188/300, Loss: 0.6256\n",
      "Epoch 189/300, Loss: 0.6243\n",
      "Epoch 190/300, Loss: 0.6243\n",
      "Epoch 191/300, Loss: 0.6229\n",
      "Epoch 192/300, Loss: 0.6206\n",
      "Epoch 193/300, Loss: 0.6200\n",
      "Epoch 194/300, Loss: 0.6204\n",
      "Epoch 195/300, Loss: 0.6181\n",
      "Epoch 196/300, Loss: 0.6182\n",
      "Epoch 197/300, Loss: 0.6162\n",
      "Epoch 198/300, Loss: 0.6161\n",
      "Epoch 199/300, Loss: 0.6131\n",
      "Epoch 200/300, Loss: 0.6137\n",
      "Epoch 201/300, Loss: 0.6135\n",
      "Epoch 202/300, Loss: 0.6109\n",
      "Epoch 203/300, Loss: 0.6123\n",
      "Epoch 204/300, Loss: 0.6103\n",
      "Epoch 205/300, Loss: 0.6098\n",
      "Epoch 206/300, Loss: 0.6068\n",
      "Epoch 207/300, Loss: 0.6078\n",
      "Epoch 208/300, Loss: 0.6066\n",
      "Epoch 209/300, Loss: 0.6069\n",
      "Epoch 210/300, Loss: 0.6059\n",
      "Epoch 211/300, Loss: 0.6048\n",
      "Epoch 212/300, Loss: 0.6046\n",
      "Epoch 213/300, Loss: 0.6020\n",
      "Epoch 214/300, Loss: 0.5997\n",
      "Epoch 215/300, Loss: 0.6017\n",
      "Epoch 216/300, Loss: 0.5990\n",
      "Epoch 217/300, Loss: 0.6006\n",
      "Epoch 218/300, Loss: 0.5981\n",
      "Epoch 219/300, Loss: 0.5982\n",
      "Epoch 220/300, Loss: 0.5960\n",
      "Epoch 221/300, Loss: 0.5963\n",
      "Epoch 222/300, Loss: 0.5954\n",
      "Epoch 223/300, Loss: 0.5946\n",
      "Epoch 224/300, Loss: 0.5930\n",
      "Epoch 225/300, Loss: 0.5918\n",
      "Epoch 226/300, Loss: 0.5911\n",
      "Epoch 227/300, Loss: 0.5906\n",
      "Epoch 228/300, Loss: 0.5894\n",
      "Epoch 229/300, Loss: 0.5920\n",
      "Epoch 230/300, Loss: 0.5885\n",
      "Epoch 231/300, Loss: 0.5866\n",
      "Epoch 232/300, Loss: 0.5878\n",
      "Epoch 233/300, Loss: 0.5832\n",
      "Epoch 234/300, Loss: 0.5837\n",
      "Epoch 235/300, Loss: 0.5832\n",
      "Epoch 236/300, Loss: 0.5805\n",
      "Epoch 237/300, Loss: 0.5810\n",
      "Epoch 238/300, Loss: 0.5794\n",
      "Epoch 239/300, Loss: 0.5747\n",
      "Epoch 240/300, Loss: 0.5770\n",
      "Epoch 241/300, Loss: 0.5731\n",
      "Epoch 242/300, Loss: 0.5714\n",
      "Epoch 243/300, Loss: 0.5686\n",
      "Epoch 244/300, Loss: 0.5667\n",
      "Epoch 245/300, Loss: 0.5627\n",
      "Epoch 246/300, Loss: 0.5560\n",
      "Epoch 247/300, Loss: 0.5517\n",
      "Epoch 248/300, Loss: 0.5436\n",
      "Epoch 249/300, Loss: 0.5387\n",
      "Epoch 250/300, Loss: 0.5307\n",
      "Epoch 251/300, Loss: 0.5225\n",
      "Epoch 252/300, Loss: 0.5155\n",
      "Epoch 253/300, Loss: 0.5039\n",
      "Epoch 254/300, Loss: 0.4966\n",
      "Epoch 255/300, Loss: 0.4882\n",
      "Epoch 256/300, Loss: 0.4807\n",
      "Epoch 257/300, Loss: 0.4707\n",
      "Epoch 258/300, Loss: 0.4624\n",
      "Epoch 259/300, Loss: 0.4549\n",
      "Epoch 260/300, Loss: 0.4483\n",
      "Epoch 261/300, Loss: 0.4408\n",
      "Epoch 262/300, Loss: 0.4337\n",
      "Epoch 263/300, Loss: 0.4271\n",
      "Epoch 264/300, Loss: 0.4207\n",
      "Epoch 265/300, Loss: 0.4141\n",
      "Epoch 266/300, Loss: 0.4099\n",
      "Epoch 267/300, Loss: 0.4029\n",
      "Epoch 268/300, Loss: 0.3983\n",
      "Epoch 269/300, Loss: 0.3913\n",
      "Epoch 270/300, Loss: 0.3872\n",
      "Epoch 271/300, Loss: 0.3829\n",
      "Epoch 272/300, Loss: 0.3770\n",
      "Epoch 273/300, Loss: 0.3722\n",
      "Epoch 274/300, Loss: 0.3702\n",
      "Epoch 275/300, Loss: 0.3651\n",
      "Epoch 276/300, Loss: 0.3632\n",
      "Epoch 277/300, Loss: 0.3569\n",
      "Epoch 278/300, Loss: 0.3550\n",
      "Epoch 279/300, Loss: 0.3527\n",
      "Epoch 280/300, Loss: 0.3475\n",
      "Epoch 281/300, Loss: 0.3442\n",
      "Epoch 282/300, Loss: 0.3439\n",
      "Epoch 283/300, Loss: 0.3394\n",
      "Epoch 284/300, Loss: 0.3363\n",
      "Epoch 285/300, Loss: 0.3343\n",
      "Epoch 286/300, Loss: 0.3300\n",
      "Epoch 287/300, Loss: 0.3288\n",
      "Epoch 288/300, Loss: 0.3285\n",
      "Epoch 289/300, Loss: 0.3243\n",
      "Epoch 290/300, Loss: 0.3222\n",
      "Epoch 291/300, Loss: 0.3196\n",
      "Epoch 292/300, Loss: 0.3178\n",
      "Epoch 293/300, Loss: 0.3115\n",
      "Epoch 294/300, Loss: 0.3139\n",
      "Epoch 295/300, Loss: 0.3111\n",
      "Epoch 296/300, Loss: 0.3113\n",
      "Epoch 297/300, Loss: 0.3084\n",
      "Epoch 298/300, Loss: 0.3044\n",
      "Epoch 299/300, Loss: 0.3018\n",
      "Epoch 300/300, Loss: 0.3031\n"
     ]
    }
   ],
   "source": [
    "# Training the network with mini-batch training\n",
    "print(\"\\nTraining with Mini-batch Gradient Descent:\")\n",
    "nn_minibatch.train(X_train, y_train, epochs=300, learning_rate=0.01, batch_size=64)"
   ]
  },
  {
   "cell_type": "markdown",
   "metadata": {},
   "source": [
    "Network Evaluation "
   ]
  },
  {
   "cell_type": "code",
   "execution_count": 25,
   "metadata": {},
   "outputs": [
    {
     "name": "stdout",
     "output_type": "stream",
     "text": [
      "Test Accuracy with Batch Gradient Descent: 0.9344\n"
     ]
    }
   ],
   "source": [
    "# Network Evaluation for Batch GD\n",
    "predictions = nn_batch.predict(X_test)\n",
    "y_test_labels = np.argmax(y_test, axis=1)\n",
    "accuracy_batch = np.mean(predictions == y_test_labels)\n",
    "print(f\"Test Accuracy with Batch Gradient Descent: {accuracy_batch:.4f}\")\n",
    "saved_accuracy_batch = accuracy_batch\n"
   ]
  },
  {
   "cell_type": "code",
   "execution_count": 26,
   "metadata": {},
   "outputs": [
    {
     "name": "stdout",
     "output_type": "stream",
     "text": [
      "Test Accuracy with Mini-batch Gradient Descent: 0.9163\n"
     ]
    }
   ],
   "source": [
    "# Network Evaluation for Mini-batch GD\n",
    "predictions = nn_minibatch.predict(X_test)\n",
    "accuracy_minibatch = np.mean(predictions == y_test_labels)\n",
    "print(f\"Test Accuracy with Mini-batch Gradient Descent: {accuracy_minibatch:.4f}\")\n",
    "saved_accuracy_minibatch = accuracy_minibatch\n"
   ]
  },
  {
   "cell_type": "markdown",
   "metadata": {},
   "source": [
    "## Data visualization "
   ]
  },
  {
   "cell_type": "code",
   "execution_count": 27,
   "metadata": {},
   "outputs": [
    {
     "data": {
      "text/plain": [
       "<Figure size 1000x500 with 0 Axes>"
      ]
     },
     "execution_count": 27,
     "metadata": {},
     "output_type": "execute_result"
    },
    {
     "data": {
      "text/plain": [
       "<Figure size 1000x500 with 0 Axes>"
      ]
     },
     "metadata": {},
     "output_type": "display_data"
    }
   ],
   "source": [
    "# Set pastel color palette\n",
    "pastel_colors = ['#FFB3BA', '#BAFFC9', '#BAE1FF', '#FFFFBA']\n",
    "\n",
    "# Visualizing Results of Different Configurations\n",
    "plt.figure(figsize=(10, 5))"
   ]
  },
  {
   "cell_type": "code",
   "execution_count": 28,
   "metadata": {},
   "outputs": [
    {
     "data": {
      "image/png": "[encoded data removed]",
      "text/plain": [
       "<Figure size 1000x500 with 1 Axes>"
      ]
     },
     "metadata": {},
     "output_type": "display_data"
    }
   ],
   "source": [
    "# optimizer comparision \n",
    "plt.figure(figsize=(10, 5))\n",
    "optimizers = ['BatchGD', 'MiniBatchGD']\n",
    "accuracies = [saved_accuracy_batch, saved_accuracy_minibatch]  \n",
    "bars = plt.bar(optimizers, accuracies, color=pastel_colors[:2])  \n",
    "plt.title('Optimizer Performance Comparison')\n",
    "plt.ylabel('Accuracy')\n",
    "plt.ylim(0, 1)  \n",
    "\n",
    "# Adding value labels on top of bars\n",
    "for bar in bars:\n",
    "    height = bar.get_height()\n",
    "    plt.text(bar.get_x() + bar.get_width() / 2, height, f'{height:.4f}', ha='center', va='bottom')\n",
    "\n",
    "plt.show()\n"
   ]
  },
  {
   "cell_type": "markdown",
   "metadata": {},
   "source": [
    "# Hyperparameters Visualization"
   ]
  },
  {
   "cell_type": "code",
   "execution_count": 29,
   "metadata": {},
   "outputs": [
    {
     "data": {
      "image/png": "[encoded data removed]",
      "text/plain": [
       "<Figure size 1000x600 with 1 Axes>"
      ]
     },
     "metadata": {},
     "output_type": "display_data"
    }
   ],
   "source": [
    "# Hyperparameters and Results Visualization\n",
    "\n",
    "plt.figure(figsize=(10, 6))\n",
    "\n",
    "# Create a table-like visualization for hyperparameters and results using the previously saved accuracy values\n",
    "params = {\n",
    "   'Model Parameters': {\n",
    "       'Learning Rate': 0.01,\n",
    "       'Batch Size': 64, \n",
    "       'Epochs': 300,\n",
    "       'Dropout Rate': 0.05,\n",
    "       'Architecture': '16->8->4'\n",
    "   },\n",
    "   'Results': {\n",
    "       'Batch Gradient Descent Accuracy': f\"{saved_accuracy_batch:.4f}\",  # Using saved Batch GD accuracy\n",
    "       'Mini-batch Gradient Descent Accuracy': f\"{saved_accuracy_minibatch:.4f}\"  # Using saved Mini-batch GD accuracy\n",
    "   }\n",
    "}\n",
    "\n",
    "# Mix of blues and greys\n",
    "colors = ['#4682B4',  # Steel Blue\n",
    "         '#2F4F4F',  # Dark Slate Gray\n",
    "         '#6495ED',  # Cornflower Blue\n",
    "         '#696969',  # Dim Gray\n",
    "         '#87CEEB']  # Sky Blue\n",
    "\n",
    "# Clear table-like visualization\n",
    "plt.text(0.1, 0.9, 'Model Configuration and Results', fontsize=14, fontweight='bold', color='#2F4F4F')  # Dark Slate Gray\n",
    "y_pos = 0.8\n",
    "\n",
    "# Parameters section\n",
    "plt.text(0.1, y_pos, 'Model Parameters:', fontsize=12, fontweight='bold', color='#4682B4')  # Steel Blue\n",
    "y_pos -= 0.1\n",
    "for i, (param, value) in enumerate(params['Model Parameters'].items()):\n",
    "   plt.text(0.1, y_pos, f\"{param}: {value}\", fontsize=12, color=colors[i % len(colors)])\n",
    "   y_pos -= 0.1\n",
    "\n",
    "# Results section\n",
    "y_pos -= 0.1\n",
    "plt.text(0.1, y_pos, 'Results:', fontsize=12, fontweight='bold', color='#4682B4')  # Steel Blue\n",
    "y_pos -= 0.1\n",
    "for i, (metric, value) in enumerate(params['Results'].items()):\n",
    "   plt.text(0.1, y_pos, f\"{metric}: {value}\", fontsize=12, color=colors[i % len(colors)])\n",
    "   y_pos -= 0.1\n",
    "\n",
    "plt.axis('off')\n",
    "plt.show()"
   ]
  }
 ],
 "metadata": {
  "kernelspec": {
   "display_name": "base",
   "language": "python",
   "name": "python3"
  },
  "language_info": {
   "codemirror_mode": {
    "name": "ipython",
    "version": 3
   },
   "file_extension": ".py",
   "mimetype": "text/x-python",
   "name": "python",
   "nbconvert_exporter": "python",
   "pygments_lexer": "ipython3",
   "version": "3.12.4"
  }
 },
 "nbformat": 4,
 "nbformat_minor": 2
}
