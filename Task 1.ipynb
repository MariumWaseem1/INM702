{
 "cells": [
  {
   "cell_type": "markdown",
   "metadata": {},
   "source": []
  },
  {
   "cell_type": "markdown",
   "metadata": {},
   "source": [
    "\"How can we build a prediction system to detect electric car component failures before they occur?\""
   ]
  },
  {
   "cell_type": "markdown",
   "metadata": {},
   "source": [
    "## Importing needed libraries"
   ]
  },
  {
   "cell_type": "code",
   "execution_count": 20,
   "metadata": {},
   "outputs": [],
   "source": [
    "import numpy as np\n",
    "import pandas as pd\n",
    "import matplotlib.pyplot as plt\n",
    "import seaborn as sns\n",
    "from sklearn.preprocessing import StandardScaler, LabelEncoder\n",
    "from sklearn.model_selection import train_test_split\n",
    "from imblearn.over_sampling import SMOTE\n",
    "from sklearn.preprocessing import OneHotEncoder\n"
   ]
  },
  {
   "cell_type": "markdown",
   "metadata": {},
   "source": [
    "## Dataset Handling"
   ]
  },
  {
   "cell_type": "code",
   "execution_count": 2,
   "metadata": {},
   "outputs": [
    {
     "name": "stdout",
     "output_type": "stream",
     "text": [
      "Dataset Shape: (5000, 10)\n",
      "\n",
      "Missing Values:\n",
      " Temperature                      0\n",
      "Humidity                         0\n",
      "PM2.5                            0\n",
      "PM10                             0\n",
      "NO2                              0\n",
      "SO2                              0\n",
      "CO                               0\n",
      "Proximity_to_Industrial_Areas    0\n",
      "Population_Density               0\n",
      "Air Quality                      0\n",
      "dtype: int64\n"
     ]
    }
   ],
   "source": [
    "df = pd.read_csv('updated_pollution_dataset.csv')\n",
    "print(\"Dataset Shape:\", df.shape)\n",
    "print(\"\\nMissing Values:\\n\", df.isnull().sum())"
   ]
  },
  {
   "cell_type": "code",
   "execution_count": 3,
   "metadata": {},
   "outputs": [],
   "source": [
    "# Handle missing values if any\n",
    "df = df.dropna()"
   ]
  },
  {
   "cell_type": "code",
   "execution_count": 4,
   "metadata": {},
   "outputs": [
    {
     "name": "stdout",
     "output_type": "stream",
     "text": [
      "Columns: ['Temperature', 'Humidity', 'PM2.5', 'PM10', 'NO2', 'SO2', 'CO', 'Proximity_to_Industrial_Areas', 'Population_Density', 'Air Quality']\n"
     ]
    }
   ],
   "source": [
    "df = pd.read_csv('updated_pollution_dataset.csv')\n",
    "print(\"Columns:\", df.columns.tolist())"
   ]
  },
  {
   "cell_type": "markdown",
   "metadata": {},
   "source": [
    "## Dense Layer"
   ]
  },
  {
   "cell_type": "code",
   "execution_count": 12,
   "metadata": {},
   "outputs": [],
   "source": [
    "class Dense_layer:\n",
    "    \"\"\"\n",
    "    This class is used to define the dense layer in Neural Networks. \n",
    "    This included forward and backward propagation.\n",
    "    \"\"\"\n",
    "    \n",
    "    def __init__(self, n_inputs, n_neurons):\n",
    "        \"\"\"\n",
    "        n_inputs: Number of inputs.\n",
    "        n_neurons: Number of neurons in the layer\n",
    "\n",
    "        Weights are defined with random values.\n",
    "        Biases are defined as zeros.\n",
    "        \"\"\"\n",
    "        self.weights = np.random.rand(n_inputs, n_neurons)  # randomly initialized weights\n",
    "        self.biases = np.zeros((1, n_neurons)) # biases intialized as zeros\n",
    "\n",
    "    def forward_propagation(self, input_layer):\n",
    "        self.input_layer = input_layer\n",
    "        self.output_layer = np.dot(input_layer, self.weights) + self.biases\n",
    "        return self.output_layer\n",
    "    \n",
    "    def backward_propagation(self, output_error, learning_rate):\n",
    "        self.d_weights = np.dot(self.input_layer.T, output_error) / self.input_layer.shape[0]\n",
    "        self.d_biases = np.sum(output_error, axis=0, keepdims=True) / self.input_layer.shape[0]\n",
    "        self.d_inputs = np.dot(output_error, self.weights.T)\n",
    "\n",
    "        # Update weights and biases\n",
    "        self.weights -= learning_rate * self.d_weights\n",
    "        self.biases -= learning_rate * self.d_biases\n",
    "\n",
    "        return self.d_inputs"
   ]
  },
  {
   "cell_type": "markdown",
   "metadata": {},
   "source": [
    "## Sigmoid - Activation Function"
   ]
  },
  {
   "cell_type": "code",
   "execution_count": 13,
   "metadata": {},
   "outputs": [],
   "source": [
    "class Sigmoid:\n",
    "    \"\"\" \n",
    "    This class represents the sigmoid activation function.\n",
    "    \"\"\"\n",
    "    def __init__(self):\n",
    "        pass\n",
    "    \n",
    "    def forward_propagation(self, input):\n",
    "        self.inputs = input\n",
    "        self.output = 1 / (1 + np.exp(-input))\n",
    "        return self.output\n",
    "    \n",
    "    def backward_propagation(self, output_error):\n",
    "        return output_error * (self.output * (1 - self.output))"
   ]
  },
  {
   "cell_type": "markdown",
   "metadata": {},
   "source": [
    "## Relu Activation Function"
   ]
  },
  {
   "cell_type": "code",
   "execution_count": 14,
   "metadata": {},
   "outputs": [],
   "source": [
    "class Relu:\n",
    "    \"\"\" \n",
    "    This class is for define Rectified Linear Unit (Relu) activation funciton.\n",
    "    \"\"\"\n",
    "    def __init__(self):\n",
    "        pass\n",
    "    \n",
    "    def forward_propagation(self, input):\n",
    "        self.input = input\n",
    "        self.output = np.maximum(0, input)\n",
    "        return self.output\n",
    "    \n",
    "    def backward_propagation(self, output_error):\n",
    "        return output_error * (self.output > 0).astype(float)"
   ]
  },
  {
   "cell_type": "markdown",
   "metadata": {},
   "source": [
    "## Softmax - Activation Function"
   ]
  },
  {
   "cell_type": "code",
   "execution_count": 15,
   "metadata": {},
   "outputs": [],
   "source": [
    "class Softmax:\n",
    "    \"\"\" \n",
    "    This class is for define Softmax activation funciton.\n",
    "    \"\"\"\n",
    "    def __init__(self):\n",
    "        pass\n",
    "    \n",
    "    def forward_propagation(self, input):\n",
    "        self.input = input\n",
    "        ex = np.exp(input - np.max(input, axis=1, keepdims=True))\n",
    "        self.output = ex / np.sum(ex, axis=1, keepdims=True)\n",
    "        return self.output\n",
    "    \n",
    "    def backward_propagation(self, output_error):\n",
    "        return output_error"
   ]
  },
  {
   "cell_type": "markdown",
   "metadata": {},
   "source": [
    "## Dropout"
   ]
  },
  {
   "cell_type": "code",
   "execution_count": 16,
   "metadata": {},
   "outputs": [],
   "source": [
    "class Dropout:\n",
    "    def __init__(self, dropout_probabality):\n",
    "        self.dropout_probabality = dropout_probabality\n",
    "        self.mask = None\n",
    "\n",
    "    def forward_propagation(self, input):\n",
    "        if self.dropout_probabality < 1.0:\n",
    "            self.mask = (np.random.rand(*input.shape) >\n",
    "                         self.dropout_probabality) / (1 - self.dropout_probabality)\n",
    "\n",
    "            return input * self.mask\n",
    "        return input\n",
    "\n",
    "    def backward_propagation(self, output_error):\n",
    "        if self.dropout_probabality < 1.0:\n",
    "            return output_error * self.mask\n",
    "        return output_error"
   ]
  },
  {
   "cell_type": "markdown",
   "metadata": {},
   "source": [
    "## Neural Network"
   ]
  },
  {
   "cell_type": "code",
   "execution_count": 17,
   "metadata": {},
   "outputs": [],
   "source": [
    "class Neural_network:\n",
    "   def __init__(self):\n",
    "       self.layers = []\n",
    "\n",
    "   def add_layer(self, layer, activation_func=None, dropout=None):\n",
    "       self.layers.append(\n",
    "           {\"layer\": layer, \"activation_func\": activation_func, \"dropout\": dropout})\n",
    "\n",
    "   def forward_propagation(self, X):\n",
    "       self.input = X\n",
    "       for layer_details in self.layers:\n",
    "           X = layer_details[\"layer\"].forward_propagation(X)\n",
    "           if layer_details[\"activation_func\"] is not None:\n",
    "               X = layer_details[\"activation_func\"].forward_propagation(X)\n",
    "           if layer_details[\"dropout\"] is not None:\n",
    "               X = layer_details[\"dropout\"].forward_propagation(X)\n",
    "       self.output = X\n",
    "       return self.output\n",
    "\n",
    "   def backward_propagation(self, output_error, learning_rate):\n",
    "       for layer_details in reversed(self.layers):\n",
    "            if layer_details[\"dropout\"]:\n",
    "                output_error = layer_details[\"dropout\"].backward_propagation(\n",
    "                    output_error)\n",
    "            if layer_details[\"activation_func\"]:\n",
    "                output_error = layer_details[\"activation_func\"].backward_propagation(\n",
    "                    output_error)\n",
    "            output_error = layer_details[\"layer\"].backward_propagation(\n",
    "               output_error, learning_rate)\n",
    "\n",
    "   def train(self, X, y, learning_rate, epochs, batch_size=32):\n",
    "        for epoch in range(epochs):\n",
    "            for i in range(0, X.shape[0], batch_size):\n",
    "                X_batch = X[i:i+batch_size]\n",
    "                y_batch = y[i:i+batch_size]\n",
    "                predictions = self.forward_propagation(X_batch)\n",
    "                #categorical cross-entropy loss\n",
    "                loss = - \\\n",
    "                    np.mean(np.sum(y_batch * np.log(predictions + 1e-7), axis=1))\n",
    "                output = predictions - y_batch\n",
    "                self.backward_propagation(output, learning_rate)\n",
    "\n",
    "            print(f\"Epoch {epoch+1}/{epochs}, Loss: {loss:.4f}\")\n",
    "\n",
    "   def predict(self, X):\n",
    "        prediction = self.forward_propagation(X)\n",
    "        return np.argmax(prediction, axis=1)"
   ]
  },
  {
   "cell_type": "markdown",
   "metadata": {},
   "source": [
    "## Data Preprocessing, Balancing, and Scaling for Air Quality Prediction"
   ]
  },
  {
   "cell_type": "markdown",
   "metadata": {},
   "source": [
    "Loading the dataset and feature selection"
   ]
  },
  {
   "cell_type": "code",
   "execution_count": 18,
   "metadata": {},
   "outputs": [],
   "source": [
    "df = pd.read_csv(\"updated_pollution_dataset.csv\")\n",
    "\n",
    "X = df.drop(\"Air Quality\", axis=1).values\n",
    "y = df[\"Air Quality\"].values"
   ]
  },
  {
   "cell_type": "markdown",
   "metadata": {},
   "source": [
    "One-hot encoding of the target variable"
   ]
  },
  {
   "cell_type": "code",
   "execution_count": 21,
   "metadata": {},
   "outputs": [],
   "source": [
    "encoder = OneHotEncoder()\n",
    "y_one_hot = encoder.fit_transform(y.reshape(-1, 1)).toarray()"
   ]
  },
  {
   "cell_type": "markdown",
   "metadata": {},
   "source": [
    "Balancing the dataset using SMOTE"
   ]
  },
  {
   "cell_type": "code",
   "execution_count": 22,
   "metadata": {},
   "outputs": [],
   "source": [
    "# Balance classes using SMOTE\n",
    "smote = SMOTE(random_state=42)\n",
    "X_balanced, y_balanced = smote.fit_resample(X, np.argmax(y_one_hot, axis=1))"
   ]
  },
  {
   "cell_type": "code",
   "execution_count": 23,
   "metadata": {},
   "outputs": [],
   "source": [
    "# Convert y_balanced back to numeric values (already integers after SMOTE)\n",
    "y_balanced = np.array(y_balanced).reshape(-1, 1)"
   ]
  },
  {
   "cell_type": "code",
   "execution_count": 24,
   "metadata": {},
   "outputs": [],
   "source": [
    "# One-hot encode the balanced target\n",
    "y_balanced = encoder.fit_transform(y_balanced).toarray()"
   ]
  },
  {
   "cell_type": "markdown",
   "metadata": {},
   "source": [
    "Data Split and Scaling features "
   ]
  },
  {
   "cell_type": "code",
   "execution_count": 25,
   "metadata": {},
   "outputs": [],
   "source": [
    "# Split data into train and test sets\n",
    "X_train, X_test, y_train, y_test = train_test_split(X_balanced, y_balanced, test_size=0.2, random_state=42)\n",
    "\n"
   ]
  },
  {
   "cell_type": "code",
   "execution_count": 26,
   "metadata": {},
   "outputs": [],
   "source": [
    "# Scale features\n",
    "scaler = StandardScaler()\n",
    "X_train = scaler.fit_transform(X_train)\n",
    "X_test = scaler.transform(X_test)"
   ]
  },
  {
   "cell_type": "markdown",
   "metadata": {},
   "source": [
    " Neural Network Initialization"
   ]
  },
  {
   "cell_type": "code",
   "execution_count": 31,
   "metadata": {},
   "outputs": [],
   "source": [
    "\n",
    "nn = Neural_network()\n",
    "nn.add_layer(Dense_layer(X_train.shape[1], 16), Relu(),Dropout(0.05))\n",
    "nn.add_layer(Dense_layer(16, 8), Relu(),Dropout(0.05))\n",
    "nn.add_layer(Dense_layer(8, 4), Softmax())\n",
    "\n"
   ]
  },
  {
   "cell_type": "code",
   "execution_count": 32,
   "metadata": {},
   "outputs": [
    {
     "name": "stdout",
     "output_type": "stream",
     "text": [
      "Epoch 1/300, Loss: 1.2197\n",
      "Epoch 2/300, Loss: 0.9105\n",
      "Epoch 3/300, Loss: 1.0735\n",
      "Epoch 4/300, Loss: 1.2782\n",
      "Epoch 5/300, Loss: 1.0294\n",
      "Epoch 6/300, Loss: 1.0236\n",
      "Epoch 7/300, Loss: 0.9380\n",
      "Epoch 8/300, Loss: 0.8681\n",
      "Epoch 9/300, Loss: 0.9196\n",
      "Epoch 10/300, Loss: 0.8745\n",
      "Epoch 11/300, Loss: 0.8606\n",
      "Epoch 12/300, Loss: 0.8406\n",
      "Epoch 13/300, Loss: 0.8201\n",
      "Epoch 14/300, Loss: 0.8074\n",
      "Epoch 15/300, Loss: 0.8294\n",
      "Epoch 16/300, Loss: 0.7793\n",
      "Epoch 17/300, Loss: 0.7262\n",
      "Epoch 18/300, Loss: 0.7451\n",
      "Epoch 19/300, Loss: 0.7593\n",
      "Epoch 20/300, Loss: 0.7327\n",
      "Epoch 21/300, Loss: 0.7015\n",
      "Epoch 22/300, Loss: 0.7074\n",
      "Epoch 23/300, Loss: 0.6891\n",
      "Epoch 24/300, Loss: 0.7201\n",
      "Epoch 25/300, Loss: 0.6923\n",
      "Epoch 26/300, Loss: 0.6379\n",
      "Epoch 27/300, Loss: 0.6723\n",
      "Epoch 28/300, Loss: 0.6494\n",
      "Epoch 29/300, Loss: 0.6927\n",
      "Epoch 30/300, Loss: 0.6213\n",
      "Epoch 31/300, Loss: 0.6205\n",
      "Epoch 32/300, Loss: 0.6071\n",
      "Epoch 33/300, Loss: 0.6400\n",
      "Epoch 34/300, Loss: 0.6182\n",
      "Epoch 35/300, Loss: 0.6511\n",
      "Epoch 36/300, Loss: 0.6085\n",
      "Epoch 37/300, Loss: 0.6341\n",
      "Epoch 38/300, Loss: 0.6137\n",
      "Epoch 39/300, Loss: 0.5942\n",
      "Epoch 40/300, Loss: 0.5921\n",
      "Epoch 41/300, Loss: 0.6062\n",
      "Epoch 42/300, Loss: 0.6406\n",
      "Epoch 43/300, Loss: 0.5993\n",
      "Epoch 44/300, Loss: 0.5742\n",
      "Epoch 45/300, Loss: 0.5979\n",
      "Epoch 46/300, Loss: 0.5843\n",
      "Epoch 47/300, Loss: 0.5667\n",
      "Epoch 48/300, Loss: 0.5766\n",
      "Epoch 49/300, Loss: 0.5766\n",
      "Epoch 50/300, Loss: 0.5423\n",
      "Epoch 51/300, Loss: 0.5429\n",
      "Epoch 52/300, Loss: 0.5420\n",
      "Epoch 53/300, Loss: 0.5156\n",
      "Epoch 54/300, Loss: 0.5185\n",
      "Epoch 55/300, Loss: 0.4964\n",
      "Epoch 56/300, Loss: 0.4937\n",
      "Epoch 57/300, Loss: 0.4719\n",
      "Epoch 58/300, Loss: 0.4708\n",
      "Epoch 59/300, Loss: 0.5028\n",
      "Epoch 60/300, Loss: 0.4577\n",
      "Epoch 61/300, Loss: 0.4477\n",
      "Epoch 62/300, Loss: 0.4177\n",
      "Epoch 63/300, Loss: 0.3941\n",
      "Epoch 64/300, Loss: 0.5168\n",
      "Epoch 65/300, Loss: 0.4586\n",
      "Epoch 66/300, Loss: 0.4569\n",
      "Epoch 67/300, Loss: 0.4083\n",
      "Epoch 68/300, Loss: 0.3745\n",
      "Epoch 69/300, Loss: 0.4469\n",
      "Epoch 70/300, Loss: 0.3641\n",
      "Epoch 71/300, Loss: 0.3495\n",
      "Epoch 72/300, Loss: 0.3162\n",
      "Epoch 73/300, Loss: 0.3691\n",
      "Epoch 74/300, Loss: 0.3074\n",
      "Epoch 75/300, Loss: 0.3963\n",
      "Epoch 76/300, Loss: 0.3439\n",
      "Epoch 77/300, Loss: 0.3171\n",
      "Epoch 78/300, Loss: 0.3293\n",
      "Epoch 79/300, Loss: 0.3237\n",
      "Epoch 80/300, Loss: 0.3094\n",
      "Epoch 81/300, Loss: 0.3440\n",
      "Epoch 82/300, Loss: 0.3075\n",
      "Epoch 83/300, Loss: 0.3293\n",
      "Epoch 84/300, Loss: 0.3820\n",
      "Epoch 85/300, Loss: 0.3390\n",
      "Epoch 86/300, Loss: 0.2863\n",
      "Epoch 87/300, Loss: 0.2554\n",
      "Epoch 88/300, Loss: 0.3008\n",
      "Epoch 89/300, Loss: 0.3003\n",
      "Epoch 90/300, Loss: 0.3521\n",
      "Epoch 91/300, Loss: 0.2913\n",
      "Epoch 92/300, Loss: 0.3292\n",
      "Epoch 93/300, Loss: 0.2817\n",
      "Epoch 94/300, Loss: 0.3066\n",
      "Epoch 95/300, Loss: 0.2602\n",
      "Epoch 96/300, Loss: 0.2574\n",
      "Epoch 97/300, Loss: 0.2825\n",
      "Epoch 98/300, Loss: 0.3014\n",
      "Epoch 99/300, Loss: 0.2557\n",
      "Epoch 100/300, Loss: 0.2698\n",
      "Epoch 101/300, Loss: 0.3217\n",
      "Epoch 102/300, Loss: 0.2325\n",
      "Epoch 103/300, Loss: 0.3106\n",
      "Epoch 104/300, Loss: 0.2764\n",
      "Epoch 105/300, Loss: 0.2674\n",
      "Epoch 106/300, Loss: 0.2822\n",
      "Epoch 107/300, Loss: 0.2752\n",
      "Epoch 108/300, Loss: 0.2612\n",
      "Epoch 109/300, Loss: 0.3014\n",
      "Epoch 110/300, Loss: 0.2765\n",
      "Epoch 111/300, Loss: 0.2579\n",
      "Epoch 112/300, Loss: 0.2186\n",
      "Epoch 113/300, Loss: 0.2515\n",
      "Epoch 114/300, Loss: 0.2486\n",
      "Epoch 115/300, Loss: 0.2927\n",
      "Epoch 116/300, Loss: 0.3266\n",
      "Epoch 117/300, Loss: 0.2002\n",
      "Epoch 118/300, Loss: 0.2724\n",
      "Epoch 119/300, Loss: 0.2642\n",
      "Epoch 120/300, Loss: 0.2469\n",
      "Epoch 121/300, Loss: 0.3829\n",
      "Epoch 122/300, Loss: 0.3187\n",
      "Epoch 123/300, Loss: 0.2954\n",
      "Epoch 124/300, Loss: 0.2615\n",
      "Epoch 125/300, Loss: 0.2465\n",
      "Epoch 126/300, Loss: 0.3603\n",
      "Epoch 127/300, Loss: 0.2476\n",
      "Epoch 128/300, Loss: 0.2623\n",
      "Epoch 129/300, Loss: 0.2389\n",
      "Epoch 130/300, Loss: 0.2658\n",
      "Epoch 131/300, Loss: 0.1957\n",
      "Epoch 132/300, Loss: 0.2101\n",
      "Epoch 133/300, Loss: 0.3004\n",
      "Epoch 134/300, Loss: 0.3211\n",
      "Epoch 135/300, Loss: 0.2256\n",
      "Epoch 136/300, Loss: 0.2850\n",
      "Epoch 137/300, Loss: 0.2200\n",
      "Epoch 138/300, Loss: 0.2211\n",
      "Epoch 139/300, Loss: 0.1916\n",
      "Epoch 140/300, Loss: 0.2115\n",
      "Epoch 141/300, Loss: 0.3755\n",
      "Epoch 142/300, Loss: 0.2734\n",
      "Epoch 143/300, Loss: 0.2849\n",
      "Epoch 144/300, Loss: 0.2799\n",
      "Epoch 145/300, Loss: 0.2317\n",
      "Epoch 146/300, Loss: 0.2025\n",
      "Epoch 147/300, Loss: 0.2180\n",
      "Epoch 148/300, Loss: 0.2202\n",
      "Epoch 149/300, Loss: 0.2029\n",
      "Epoch 150/300, Loss: 0.1869\n",
      "Epoch 151/300, Loss: 0.2134\n",
      "Epoch 152/300, Loss: 0.2421\n",
      "Epoch 153/300, Loss: 0.2329\n",
      "Epoch 154/300, Loss: 0.2469\n",
      "Epoch 155/300, Loss: 0.1997\n",
      "Epoch 156/300, Loss: 0.2531\n",
      "Epoch 157/300, Loss: 0.2435\n",
      "Epoch 158/300, Loss: 0.2393\n",
      "Epoch 159/300, Loss: 0.2335\n",
      "Epoch 160/300, Loss: 0.2684\n",
      "Epoch 161/300, Loss: 0.1928\n",
      "Epoch 162/300, Loss: 0.2251\n",
      "Epoch 163/300, Loss: 0.2043\n",
      "Epoch 164/300, Loss: 0.2738\n",
      "Epoch 165/300, Loss: 0.3137\n",
      "Epoch 166/300, Loss: 0.2324\n",
      "Epoch 167/300, Loss: 0.1690\n",
      "Epoch 168/300, Loss: 0.2200\n",
      "Epoch 169/300, Loss: 0.1554\n",
      "Epoch 170/300, Loss: 0.2312\n",
      "Epoch 171/300, Loss: 0.2751\n",
      "Epoch 172/300, Loss: 0.2463\n",
      "Epoch 173/300, Loss: 0.2780\n",
      "Epoch 174/300, Loss: 0.3026\n",
      "Epoch 175/300, Loss: 0.1742\n",
      "Epoch 176/300, Loss: 0.2241\n",
      "Epoch 177/300, Loss: 0.2599\n",
      "Epoch 178/300, Loss: 0.2077\n",
      "Epoch 179/300, Loss: 0.2083\n",
      "Epoch 180/300, Loss: 0.2229\n",
      "Epoch 181/300, Loss: 0.1974\n",
      "Epoch 182/300, Loss: 0.2126\n",
      "Epoch 183/300, Loss: 0.2273\n",
      "Epoch 184/300, Loss: 0.2169\n",
      "Epoch 185/300, Loss: 0.2013\n",
      "Epoch 186/300, Loss: 0.2063\n",
      "Epoch 187/300, Loss: 0.1562\n",
      "Epoch 188/300, Loss: 0.1999\n",
      "Epoch 189/300, Loss: 0.1889\n",
      "Epoch 190/300, Loss: 0.2001\n",
      "Epoch 191/300, Loss: 0.1994\n",
      "Epoch 192/300, Loss: 0.1705\n",
      "Epoch 193/300, Loss: 0.1979\n",
      "Epoch 194/300, Loss: 0.2862\n",
      "Epoch 195/300, Loss: 0.1685\n",
      "Epoch 196/300, Loss: 0.1874\n",
      "Epoch 197/300, Loss: 0.2292\n",
      "Epoch 198/300, Loss: 0.2194\n",
      "Epoch 199/300, Loss: 0.2084\n",
      "Epoch 200/300, Loss: 0.2806\n",
      "Epoch 201/300, Loss: 0.2356\n",
      "Epoch 202/300, Loss: 0.1759\n",
      "Epoch 203/300, Loss: 0.2401\n",
      "Epoch 204/300, Loss: 0.2015\n",
      "Epoch 205/300, Loss: 0.2163\n",
      "Epoch 206/300, Loss: 0.1885\n",
      "Epoch 207/300, Loss: 0.2057\n",
      "Epoch 208/300, Loss: 0.1740\n",
      "Epoch 209/300, Loss: 0.2026\n",
      "Epoch 210/300, Loss: 0.2161\n",
      "Epoch 211/300, Loss: 0.1873\n",
      "Epoch 212/300, Loss: 0.2063\n",
      "Epoch 213/300, Loss: 0.2319\n",
      "Epoch 214/300, Loss: 0.1943\n",
      "Epoch 215/300, Loss: 0.1934\n",
      "Epoch 216/300, Loss: 0.3246\n",
      "Epoch 217/300, Loss: 0.1831\n",
      "Epoch 218/300, Loss: 0.1688\n",
      "Epoch 219/300, Loss: 0.1773\n",
      "Epoch 220/300, Loss: 0.2452\n",
      "Epoch 221/300, Loss: 0.2315\n",
      "Epoch 222/300, Loss: 0.2524\n",
      "Epoch 223/300, Loss: 0.2300\n",
      "Epoch 224/300, Loss: 0.1910\n",
      "Epoch 225/300, Loss: 0.1901\n",
      "Epoch 226/300, Loss: 0.2436\n",
      "Epoch 227/300, Loss: 0.1786\n",
      "Epoch 228/300, Loss: 0.1820\n",
      "Epoch 229/300, Loss: 0.2386\n",
      "Epoch 230/300, Loss: 0.2456\n",
      "Epoch 231/300, Loss: 0.2053\n",
      "Epoch 232/300, Loss: 0.2032\n",
      "Epoch 233/300, Loss: 0.1784\n",
      "Epoch 234/300, Loss: 0.1787\n",
      "Epoch 235/300, Loss: 0.2066\n",
      "Epoch 236/300, Loss: 0.1943\n",
      "Epoch 237/300, Loss: 0.1858\n",
      "Epoch 238/300, Loss: 0.2003\n",
      "Epoch 239/300, Loss: 0.1914\n",
      "Epoch 240/300, Loss: 0.2093\n",
      "Epoch 241/300, Loss: 0.2074\n",
      "Epoch 242/300, Loss: 0.2184\n",
      "Epoch 243/300, Loss: 0.2274\n",
      "Epoch 244/300, Loss: 0.2471\n",
      "Epoch 245/300, Loss: 0.2233\n",
      "Epoch 246/300, Loss: 0.2092\n",
      "Epoch 247/300, Loss: 0.2046\n",
      "Epoch 248/300, Loss: 0.2016\n",
      "Epoch 249/300, Loss: 0.1588\n",
      "Epoch 250/300, Loss: 0.2481\n",
      "Epoch 251/300, Loss: 0.1578\n",
      "Epoch 252/300, Loss: 0.2232\n",
      "Epoch 253/300, Loss: 0.2012\n",
      "Epoch 254/300, Loss: 0.2100\n",
      "Epoch 255/300, Loss: 0.2062\n",
      "Epoch 256/300, Loss: 0.2028\n",
      "Epoch 257/300, Loss: 0.1805\n",
      "Epoch 258/300, Loss: 0.2396\n",
      "Epoch 259/300, Loss: 0.2664\n",
      "Epoch 260/300, Loss: 0.2028\n",
      "Epoch 261/300, Loss: 0.2151\n",
      "Epoch 262/300, Loss: 0.1344\n",
      "Epoch 263/300, Loss: 0.2053\n",
      "Epoch 264/300, Loss: 0.2838\n",
      "Epoch 265/300, Loss: 0.2230\n",
      "Epoch 266/300, Loss: 0.1949\n",
      "Epoch 267/300, Loss: 0.1949\n",
      "Epoch 268/300, Loss: 0.1943\n",
      "Epoch 269/300, Loss: 0.1447\n",
      "Epoch 270/300, Loss: 0.1561\n",
      "Epoch 271/300, Loss: 0.2415\n",
      "Epoch 272/300, Loss: 0.1879\n",
      "Epoch 273/300, Loss: 0.2165\n",
      "Epoch 274/300, Loss: 0.1923\n",
      "Epoch 275/300, Loss: 0.2010\n",
      "Epoch 276/300, Loss: 0.2312\n",
      "Epoch 277/300, Loss: 0.1587\n",
      "Epoch 278/300, Loss: 0.2303\n",
      "Epoch 279/300, Loss: 0.2030\n",
      "Epoch 280/300, Loss: 0.2220\n",
      "Epoch 281/300, Loss: 0.1876\n",
      "Epoch 282/300, Loss: 0.1901\n",
      "Epoch 283/300, Loss: 0.2204\n",
      "Epoch 284/300, Loss: 0.1739\n",
      "Epoch 285/300, Loss: 0.2228\n",
      "Epoch 286/300, Loss: 0.2033\n",
      "Epoch 287/300, Loss: 0.1811\n",
      "Epoch 288/300, Loss: 0.1665\n",
      "Epoch 289/300, Loss: 0.2016\n",
      "Epoch 290/300, Loss: 0.2003\n",
      "Epoch 291/300, Loss: 0.2295\n",
      "Epoch 292/300, Loss: 0.2102\n",
      "Epoch 293/300, Loss: 0.2219\n",
      "Epoch 294/300, Loss: 0.1941\n",
      "Epoch 295/300, Loss: 0.1964\n",
      "Epoch 296/300, Loss: 0.2069\n",
      "Epoch 297/300, Loss: 0.1620\n",
      "Epoch 298/300, Loss: 0.1746\n",
      "Epoch 299/300, Loss: 0.1966\n",
      "Epoch 300/300, Loss: 0.1645\n"
     ]
    }
   ],
   "source": [
    "# Train the network with batch training\n",
    "nn.train(X_train, y_train, epochs=300, learning_rate=0.01, batch_size=64)"
   ]
  },
  {
   "cell_type": "markdown",
   "metadata": {},
   "source": [
    "Network Evaluation "
   ]
  },
  {
   "cell_type": "code",
   "execution_count": 33,
   "metadata": {},
   "outputs": [
    {
     "name": "stdout",
     "output_type": "stream",
     "text": [
      "Test Accuracy: 0.9250\n"
     ]
    }
   ],
   "source": [
    "\n",
    "predictions = nn.predict(X_test)\n",
    "y_test_labels = np.argmax(y_test, axis=1)\n",
    "accuracy = np.mean(predictions == y_test_labels)\n",
    "print(f\"Test Accuracy: {accuracy:.4f}\")\n"
   ]
  },
  {
   "cell_type": "markdown",
   "metadata": {},
   "source": [
    "## Implement Optimizer "
   ]
  },
  {
   "cell_type": "code",
   "execution_count": 34,
   "metadata": {},
   "outputs": [],
   "source": [
    "class SGD_Momentum:\n",
    "    def __init__(self, learning_rate=0.01, momentum=0.9):\n",
    "        self.learning_rate = learning_rate\n",
    "        self.momentum = momentum\n",
    "        self.velocity = {}\n",
    "    \n",
    "    def initialize(self, params):\n",
    "        # Initialize velocity for each parameter\n",
    "        for layer_idx in range(len(params)):\n",
    "            self.velocity[f'weights_{layer_idx}'] = np.zeros_like(params[layer_idx]['weights'])\n",
    "            self.velocity[f'biases_{layer_idx}'] = np.zeros_like(params[layer_idx]['biases'])\n",
    "    \n",
    "    def update(self, params, gradients):\n",
    "        for layer_idx in range(len(params)):\n",
    "            # Update weights using momentum\n",
    "            self.velocity[f'weights_{layer_idx}'] = (self.momentum * self.velocity[f'weights_{layer_idx}'] - \n",
    "                                                   self.learning_rate * gradients[layer_idx]['d_weights'])\n",
    "            self.velocity[f'biases_{layer_idx}'] = (self.momentum * self.velocity[f'biases_{layer_idx}'] - \n",
    "                                                  self.learning_rate * gradients[layer_idx]['d_biases'])\n",
    "            \n",
    "            params[layer_idx]['weights'] += self.velocity[f'weights_{layer_idx}']\n",
    "            params[layer_idx]['biases'] += self.velocity[f'biases_{layer_idx}']"
   ]
  },
  {
   "cell_type": "code",
   "execution_count": 35,
   "metadata": {},
   "outputs": [],
   "source": [
    "class MiniBatchSGD:\n",
    "    def __init__(self, learning_rate=0.01, batch_size=32):\n",
    "        self.learning_rate = learning_rate\n",
    "        self.batch_size = batch_size\n",
    "    \n",
    "    def initialize(self, params):\n",
    "        pass  # No initialization needed for basic SGD\n",
    "    \n",
    "    def update(self, params, gradients):\n",
    "        for layer_idx in range(len(params)):\n",
    "            params[layer_idx]['weights'] -= self.learning_rate * gradients[layer_idx]['d_weights']\n",
    "            params[layer_idx]['biases'] -= self.learning_rate * gradients[layer_idx]['d_biases']"
   ]
  },
  {
   "cell_type": "markdown",
   "metadata": {},
   "source": [
    "## Testing Different Optimizers\n"
   ]
  }
 ],
 "metadata": {
  "kernelspec": {
   "display_name": "base",
   "language": "python",
   "name": "python3"
  },
  "language_info": {
   "codemirror_mode": {
    "name": "ipython",
    "version": 3
   },
   "file_extension": ".py",
   "mimetype": "text/x-python",
   "name": "python",
   "nbconvert_exporter": "python",
   "pygments_lexer": "ipython3",
   "version": "3.12.4"
  }
 },
 "nbformat": 4,
 "nbformat_minor": 2
}
