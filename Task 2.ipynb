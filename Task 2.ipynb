{
 "cells": [
  {
   "cell_type": "code",
   "execution_count": 2,
   "metadata": {},
   "outputs": [],
   "source": [
    "\"\"\"\n",
    "Importing needed libraries\n",
    "\"\"\"\n",
    "import torch\n",
    "import torch.nn as nn\n",
    "from torch.utils.data import DataLoader\n",
    "from torchvision import datasets, transforms\n",
    "import matplotlib.pyplot as plt"
   ]
  },
  {
   "cell_type": "code",
   "execution_count": 3,
   "metadata": {},
   "outputs": [],
   "source": [
    "\"\"\" \n",
    " Dataset path\n",
    "\"\"\"\n",
    "training_image_path = 'plant disease dataset/Train/Train'\n",
    "validation_image_path = 'plant disease dataset/Validation/Validation'\n",
    "testing_image_path = 'plant disease dataset/Test/Test'"
   ]
  },
  {
   "cell_type": "code",
   "execution_count": 4,
   "metadata": {},
   "outputs": [],
   "source": [
    "\"\"\" \n",
    "Let's define the transformatiions that needed to be applied on the images. \n",
    "\"\"\"\n",
    "image_transformation = transforms.Compose([\n",
    "    transforms.Resize((128, 128)),  # resizing the image to 32x32\n",
    "    transforms.ToTensor()  # Converting as tensor\n",
    "])"
   ]
  },
  {
   "cell_type": "code",
   "execution_count": 5,
   "metadata": {},
   "outputs": [],
   "source": [
    "\"\"\" \n",
    "Definig the dataset by applying transfromations on the datsset images.\n",
    "\"\"\"\n",
    "training_dataset = datasets.ImageFolder(\n",
    "    training_image_path, transform=image_transformation)\n",
    "validation_dataset = datasets.ImageFolder(\n",
    "    validation_image_path, transform=image_transformation)\n",
    "testing_dataset = datasets.ImageFolder(\n",
    "    testing_image_path, transform=image_transformation)"
   ]
  },
  {
   "cell_type": "code",
   "execution_count": 6,
   "metadata": {},
   "outputs": [
    {
     "name": "stdout",
     "output_type": "stream",
     "text": [
      "Size of Training Data :  1322\n",
      "Size of Validation Data :  60\n",
      "Size of Testing Data :  150\n",
      "Unique Classes :  ['Healthy', 'Powdery', 'Rust']\n"
     ]
    }
   ],
   "source": [
    "\"\"\"  \n",
    "Insights of defined dataset. \n",
    "\"\"\"\n",
    "\n",
    "print(\"Size of Training Data : \", len(training_dataset))\n",
    "print(\"Size of Validation Data : \", len(validation_dataset))\n",
    "print(\"Size of Testing Data : \", len(testing_dataset))\n",
    "print(\"Unique Classes : \", training_dataset.classes)"
   ]
  },
  {
   "cell_type": "markdown",
   "metadata": {},
   "source": [
    "## Base CNN model for plant disease prediction"
   ]
  },
  {
   "cell_type": "code",
   "execution_count": 7,
   "metadata": {},
   "outputs": [],
   "source": [
    "\"\"\" \n",
    "Defining the dataloaders. \n",
    "    - batch_size : 32\n",
    "\"\"\"\n",
    "training_loader = DataLoader(training_dataset, batch_size=32, shuffle=True)\n",
    "validation_loader = DataLoader(validation_dataset, batch_size=32)\n",
    "testing_loader = DataLoader(testing_dataset, batch_size=32)"
   ]
  },
  {
   "cell_type": "code",
   "execution_count": 8,
   "metadata": {},
   "outputs": [],
   "source": [
    "\"\"\" \n",
    "Defining the basic CNN model to find how well it can predict plant disease. \n",
    "\"\"\"\n",
    "\n",
    "\n",
    "class Base_CNN(nn.Module):\n",
    "    def __init__(self):\n",
    "        super(Base_CNN, self).__init__()\n",
    "        # Definig 1 covolutional layer\n",
    "        self.conv1 = nn.Conv2d(3, 32, 3, padding=1)  # Increased filters\n",
    "        self.conv2 = nn.Conv2d(32, 64, 3, padding=1)\n",
    "        self.pooling = nn.MaxPool2d(2, 2)\n",
    "\n",
    "        # Two fully connected layers\n",
    "        self.fully_connected_1 = nn.Linear(64 * 32 * 32, 128)\n",
    "        self.fully_connected_2 = nn.Linear(128, 3)  # 3 classes\n",
    "\n",
    "    def forward(self, x):\n",
    "        x = self.pooling(torch.relu(self.conv1(x)))\n",
    "        x = self.pooling(torch.relu(self.conv2(x)))  # Second conv + pooling\n",
    "        x = x.view(-1, 64 * 32 * 32)\n",
    "        x = torch.relu(self.fully_connected_1(x))\n",
    "        x = self.fully_connected_2(x)\n",
    "        return x"
   ]
  },
  {
   "cell_type": "code",
   "execution_count": 9,
   "metadata": {},
   "outputs": [],
   "source": [
    "\"\"\" \n",
    "Initializing the Basic CNN model with, \n",
    "    - Loss : CrossEntropyLoss\n",
    "    - Optimizer : SGD\n",
    "    - Learning Rate : 0.01\n",
    "\"\"\"\n",
    "base_model = Base_CNN()\n",
    "criterion_base_CNN = nn.CrossEntropyLoss()\n",
    "optimizer_base_CNN = torch.optim.SGD(base_model.parameters(), lr=0.01)"
   ]
  },
  {
   "cell_type": "code",
   "execution_count": 10,
   "metadata": {},
   "outputs": [
    {
     "name": "stdout",
     "output_type": "stream",
     "text": [
      "Starting training...\n",
      "Completed Base_CNN Epoch : 1/5 :\n",
      "Training Loss: 1.074\n",
      "Training Accuracy: 40.24%\n",
      "Validation Accuracy: 41.67%\n",
      "\n",
      "Completed Base_CNN Epoch : 2/5 :\n",
      "Training Loss: 0.989\n",
      "Training Accuracy: 52.34%\n",
      "Validation Accuracy: 33.33%\n",
      "\n",
      "Completed Base_CNN Epoch : 3/5 :\n",
      "Training Loss: 0.913\n",
      "Training Accuracy: 56.43%\n",
      "Validation Accuracy: 50.00%\n",
      "\n",
      "Completed Base_CNN Epoch : 4/5 :\n",
      "Training Loss: 0.787\n",
      "Training Accuracy: 65.13%\n",
      "Validation Accuracy: 36.67%\n",
      "\n",
      "Completed Base_CNN Epoch : 5/5 :\n",
      "Training Loss: 0.773\n",
      "Training Accuracy: 65.13%\n",
      "Validation Accuracy: 33.33%\n",
      "\n"
     ]
    }
   ],
   "source": [
    "\"\"\"\n",
    "Training the Base CNN model.\n",
    "\"\"\"\n",
    "# Flags to store values for visualization\n",
    "training_losses = []\n",
    "training_accuracies = []\n",
    "validation_accuracies = []\n",
    "\n",
    "print(\"Starting training...\")\n",
    "epochs_count = 5\n",
    "\n",
    "for epoch in range(epochs_count):\n",
    "    base_model.train()\n",
    "    epoch_loss = 0.0\n",
    "    training_correct = 0\n",
    "    training_total = 0\n",
    "\n",
    "    for inputs, labels in training_loader:\n",
    "        optimizer_base_CNN.zero_grad()\n",
    "        batch_outputs = base_model(inputs)\n",
    "        batch_loss = criterion_base_CNN(batch_outputs, labels)\n",
    "        batch_loss.backward()\n",
    "        optimizer_base_CNN.step()\n",
    "\n",
    "        epoch_loss += batch_loss.item()\n",
    "        _, predicted = batch_outputs.max(1)\n",
    "        training_total += labels.size(0)\n",
    "        training_correct += predicted.eq(labels).sum().item()\n",
    "\n",
    "    training_accuracy = 100. * training_correct / training_total\n",
    "    training_losses.append(epoch_loss/len(training_loader))\n",
    "    training_accuracies.append(training_accuracy)\n",
    "\n",
    "    \"\"\" \n",
    "    Validation \n",
    "    \"\"\"\n",
    "    base_model.eval()\n",
    "    validation_correct = 0\n",
    "    validation_total = 0\n",
    "    with torch.no_grad():\n",
    "        for inputs, labels in validation_loader:\n",
    "            outputs = base_model(inputs)\n",
    "            _, predicted = outputs.max(1)\n",
    "            validation_total += labels.size(0)\n",
    "            validation_correct += predicted.eq(labels).sum().item()\n",
    "\n",
    "    validation_accuray = 100. * validation_correct / validation_total\n",
    "    validation_accuracies.append(validation_accuray)\n",
    "\n",
    "    print(f'Completed Base_CNN Epoch : {epoch+1}/{epochs_count} :')\n",
    "    print(f'Training Loss: {epoch_loss/len(training_loader):.3f}')\n",
    "    print(f'Training Accuracy: {training_accuracy:.2f}%')\n",
    "    print(f'Validation Accuracy: {validation_accuray:.2f}%\\n')"
   ]
  },
  {
   "cell_type": "code",
   "execution_count": 11,
   "metadata": {},
   "outputs": [
    {
     "data": {
      "image/png": "[encoded data removed]",
      "text/plain": [
       "<Figure size 1200x600 with 2 Axes>"
      ]
     },
     "metadata": {},
     "output_type": "display_data"
    }
   ],
   "source": [
    "\"\"\" \n",
    "Visiualizing training and validation results of the Base model.\n",
    "\"\"\"\n",
    "plt.figure(figsize=(12, 6))\n",
    "\n",
    "# Plot Loss\n",
    "plt.subplot(1, 2, 1)\n",
    "plt.plot(range(1, epochs_count + 1), training_losses, label='Training Loss')\n",
    "plt.title('Training Loss')\n",
    "plt.xlabel('Epochs')\n",
    "plt.ylabel('Loss')\n",
    "plt.legend()\n",
    "\n",
    "# Plot Accuracy\n",
    "plt.subplot(1, 2, 2)\n",
    "plt.plot(range(1, epochs_count + 1),\n",
    "         training_accuracies, label='Training Accuracy')\n",
    "plt.plot(range(1, epochs_count + 1), validation_accuracies,\n",
    "         label='Validation Accuracy')\n",
    "plt.title('Training and Validation results of Base CNN')\n",
    "plt.xlabel('Epochs')\n",
    "plt.ylabel('Accuracy (%)')\n",
    "plt.legend()\n",
    "\n",
    "plt.tight_layout()\n",
    "plt.show()"
   ]
  },
  {
   "cell_type": "code",
   "execution_count": 12,
   "metadata": {},
   "outputs": [
    {
     "name": "stdout",
     "output_type": "stream",
     "text": [
      "Test Accuracy for Base CNN: 36.00%\n"
     ]
    }
   ],
   "source": [
    "\"\"\" \n",
    "Evaluating the base CNN model \n",
    "\"\"\"\n",
    "base_model.eval()\n",
    "testing_correct = 0\n",
    "testing_total = 0\n",
    "with torch.no_grad():\n",
    "    for inputs, labels in testing_loader:\n",
    "        outputs = base_model(inputs)\n",
    "        _, predicted = outputs.max(1)\n",
    "        testing_total += labels.size(0)\n",
    "        testing_correct += predicted.eq(labels).sum().item()\n",
    "\n",
    "test_accuracy = 100. * testing_correct / testing_total\n",
    "print(f'Test Accuracy for Base CNN: {100.*testing_correct/testing_total:.2f}%')"
   ]
  },
  {
   "cell_type": "markdown",
   "metadata": {},
   "source": [
    "## Implement Improvement 1"
   ]
  },
  {
   "cell_type": "markdown",
   "metadata": {},
   "source": [
    "- Larger input size (224x224) for better feature detection\n",
    "- Data augmentation with random flips for better generalization\n",
    "- ImageNet normalization for training stability"
   ]
  },
  {
   "cell_type": "code",
   "execution_count": 16,
   "metadata": {},
   "outputs": [],
   "source": [
    "image_transform_improved = transforms.Compose([\n",
    "    transforms.Resize((224, 224)),          # Increased from 32x32\n",
    "    transforms.RandomHorizontalFlip(),      # New: data augmentation\n",
    "    transforms.ToTensor(),      \n",
    "    # using the mean and std of ImageNet images as they were calculated based on millions of images.            \n",
    "    transforms.Normalize(mean=[0.485, 0.456, 0.406], \n",
    "                       std=[0.229, 0.224, 0.225]) \n",
    "])\n"
   ]
  },
  {
   "cell_type": "code",
   "execution_count": 17,
   "metadata": {},
   "outputs": [],
   "source": [
    "# Updated datasets with new transform\n",
    "training_dataset_improved = datasets.ImageFolder(\n",
    "    training_image_path, transform=image_transform_improved)\n",
    "validation_dataset_improved = datasets.ImageFolder(\n",
    "    validation_image_path, transform=image_transform_improved)\n",
    "testing_dataset_improved = datasets.ImageFolder(\n",
    "    testing_image_path, transform=image_transform_improved)"
   ]
  },
  {
   "cell_type": "code",
   "execution_count": 18,
   "metadata": {},
   "outputs": [],
   "source": [
    "training_loader_improved = DataLoader(\n",
    "    training_dataset_improved, batch_size=32, shuffle=True)\n",
    "validation_loader_improved = DataLoader(\n",
    "    validation_dataset_improved, batch_size=32)\n",
    "testing_loader_improved = DataLoader(testing_dataset_improved, batch_size=32)"
   ]
  },
  {
   "cell_type": "markdown",
   "metadata": {},
   "source": [
    "## Implement Improvement 2"
   ]
  },
  {
   "cell_type": "markdown",
   "metadata": {},
   "source": [
    "- Three convolutional layers instead of one\n",
    "- Added padding to maintain spatial dimensions\n",
    "- Increased number of filters (32, 64, 128)\n"
   ]
  },
  {
   "cell_type": "code",
   "execution_count": 24,
   "metadata": {},
   "outputs": [],
   "source": [
    "class ImprovedCNN(nn.Module):\n",
    "    def __init__(self, num_classes):\n",
    "        super(ImprovedCNN, self).__init__()\n",
    "        \n",
    "        # convolution layers\n",
    "        self.conv1 = nn.Conv2d(3, 32, kernel_size=3, padding=1)\n",
    "        self.conv2 = nn.Conv2d(32, 64, kernel_size=3, padding=1)\n",
    "        self.conv3 = nn.Conv2d(64, 128, kernel_size=3, padding=1)\n",
    "        \n",
    "        # pooling and fully connected layers\n",
    "        self.pooling = nn.MaxPool2d(2, 2)\n",
    "        self.fully_connected_1 = nn.Linear(128 * 28 * 28, 512)\n",
    "        self.fully_connected_2 = nn.Linear(512, num_classes)\n",
    "        \n",
    "        # dropout - overfitting fix\n",
    "        self.dropout = nn.Dropout(0.5)\n",
    "\n",
    "    def forward(self, x):\n",
    "        \n",
    "        x = self.pooling(torch.relu(self.conv1(x)))\n",
    "        x = self.pooling(torch.relu(self.conv2(x)))\n",
    "        x = self.pooling(torch.relu(self.conv3(x)))\n",
    "        \n",
    "        \n",
    "        x = x.view(-1, 128 * 28 * 28)\n",
    "        \n",
    "        \n",
    "        x = torch.relu(self.fully_connected_1(x))\n",
    "        x = self.dropout(x)\n",
    "        x = self.fully_connected_2(x)\n",
    "        \n",
    "        return x\n"
   ]
  },
  {
   "cell_type": "code",
   "execution_count": 25,
   "metadata": {},
   "outputs": [],
   "source": [
    "\"\"\" \n",
    "initializing the improved cnn modell \n",
    "\"\"\"\n",
    "num_classes = len(training_dataset_improved.classes)\n",
    "improved_model = ImprovedCNN(num_classes)"
   ]
  },
  {
   "cell_type": "markdown",
   "metadata": {},
   "source": [
    "## Implement Improvement 3"
   ]
  },
  {
   "cell_type": "markdown",
   "metadata": {},
   "source": [
    "- Using Adam optimizer instead of SGD\n",
    "- Added dropout for regularization\n",
    "- More epochs \n"
   ]
  },
  {
   "cell_type": "code",
   "execution_count": 27,
   "metadata": {},
   "outputs": [
    {
     "name": "stdout",
     "output_type": "stream",
     "text": [
      "Starting training...\n",
      "Completed Improved CNN Epoch : 1/5 :\n",
      "Training Loss: 0.005\n",
      "Training Accuracy: 65.13%\n",
      "Validation Accuracy: 33.33%\n",
      "\n",
      "Completed Improved CNN Epoch : 2/5 :\n",
      "Training Loss: 0.004\n",
      "Training Accuracy: 65.13%\n",
      "Validation Accuracy: 33.33%\n",
      "\n",
      "Completed Improved CNN Epoch : 3/5 :\n",
      "Training Loss: 0.003\n",
      "Training Accuracy: 65.13%\n",
      "Validation Accuracy: 33.33%\n",
      "\n",
      "Completed Improved CNN Epoch : 4/5 :\n",
      "Training Loss: 0.002\n",
      "Training Accuracy: 65.13%\n",
      "Validation Accuracy: 33.33%\n",
      "\n",
      "Completed Improved CNN Epoch : 5/5 :\n",
      "Training Loss: 0.003\n",
      "Training Accuracy: 65.13%\n",
      "Validation Accuracy: 33.33%\n",
      "\n"
     ]
    }
   ],
   "source": [
    "# Training components\n",
    "improved_criterion = nn.CrossEntropyLoss()\n",
    "improved_optimizer = torch.optim.Adam(\n",
    "    improved_model.parameters(), lr=0.001)  # Changed to Adam\n",
    "\n",
    "# Training loop\n",
    "print(\"Starting training...\")\n",
    "epochs_count = 5 # reminder : change epoch to 15\n",
    "best_val_acc = 0\n",
    "\n",
    "for epoch in range(epochs_count):\n",
    "    improved_model.train()\n",
    "    training_loss = 0.0\n",
    "    training_correct = 0\n",
    "    training_total = 0\n",
    "\n",
    "    for inputs, labels in training_loader_improved:\n",
    "        improved_optimizer.zero_grad()\n",
    "        outputs = improved_model(inputs)\n",
    "        loss = improved_criterion(outputs, labels)\n",
    "        loss.backward()\n",
    "        improved_optimizer.step()\n",
    "        \n",
    "        training_loss += loss.item()\n",
    "        _, predicted = torch.max(outputs, 1)\n",
    "        training_correct += (predicted == labels).sum().item()\n",
    "        training_total += labels.size(0)\n",
    "\n",
    "    # Calculate metrics\n",
    "    epoch_loss = training_loss / len(training_loader_improved)\n",
    "    epoch_accuracy = training_correct / training_total\n",
    "\n",
    "    # Validation phase\n",
    "    improved_model.eval()\n",
    "    validation_correct = 0\n",
    "    validation_total = 0\n",
    "    with torch.no_grad():\n",
    "        for inputs, labels in validation_loader_improved:\n",
    "            outputs = improved_model(inputs)\n",
    "            _, predicted = torch.max(outputs, 1)\n",
    "            validation_correct += (predicted == labels).sum().item()\n",
    "            validation_total += labels.size(0)\n",
    "\n",
    "    validation_accuracy = validation_correct / validation_total\n",
    "\n",
    "    # Save best model\n",
    "    if validation_accuracy > best_val_acc:\n",
    "        best_val_acc = validation_accuracy\n",
    "        torch.save(improved_model.state_dict(), 'best_plant_disease_model.pth')\n",
    "\n",
    "    print(f'Completed Improved CNN Epoch : {epoch+1}/{epochs_count} :')\n",
    "    print(f'Training Loss: {epoch_loss/len(training_loader_improved):.3f}')\n",
    "    print(f'Training Accuracy: {training_accuracy:.2f}%')\n",
    "    print(f'Validation Accuracy: {validation_accuray:.2f}%\\n')"
   ]
  },
  {
   "cell_type": "code",
   "execution_count": 28,
   "metadata": {},
   "outputs": [
    {
     "name": "stderr",
     "output_type": "stream",
     "text": [
      "C:\\Users\\Dell\\AppData\\Local\\Temp\\ipykernel_18424\\2776900401.py:2: FutureWarning: You are using `torch.load` with `weights_only=False` (the current default value), which uses the default pickle module implicitly. It is possible to construct malicious pickle data which will execute arbitrary code during unpickling (See https://github.com/pytorch/pytorch/blob/main/SECURITY.md#untrusted-models for more details). In a future release, the default value for `weights_only` will be flipped to `True`. This limits the functions that could be executed during unpickling. Arbitrary objects will no longer be allowed to be loaded via this mode unless they are explicitly allowlisted by the user via `torch.serialization.add_safe_globals`. We recommend you start setting `weights_only=True` for any use case where you don't have full control of the loaded file. Please open an issue on GitHub for any issues related to this experimental feature.\n",
      "  improved_model.load_state_dict(torch.load('best_plant_disease_model.pth'))\n"
     ]
    },
    {
     "name": "stdout",
     "output_type": "stream",
     "text": [
      "Test Accuracy: 92.00%\n"
     ]
    }
   ],
   "source": [
    "# Load the best model\n",
    "improved_model.load_state_dict(torch.load('best_plant_disease_model.pth'))\n",
    "\n",
    "# Evaluation function\n",
    "def evaluate_model(model, test_loader):\n",
    "    device = torch.device(\"cuda\" if torch.cuda.is_available() else \"cpu\")\n",
    "    improved_model.to(device)\n",
    "    \n",
    "    improved_model.eval()  # Set model to evaluation mode\n",
    "    testing_correct = 0\n",
    "    testing_total = 0\n",
    "    \n",
    "    with torch.no_grad():\n",
    "        for inputs, labels in test_loader:\n",
    "            inputs, labels = inputs.to(device), labels.to(device)\n",
    "\n",
    "            outputs = model(inputs)\n",
    "            _, predicted = torch.max(outputs, 1)\n",
    "            testing_correct += (predicted == labels).sum().item()\n",
    "            testing_total += labels.size(0)\n",
    "    \n",
    "    testing_accuracy = testing_correct / testing_total\n",
    "    print(f\"Test Accuracy: {testing_accuracy*100:.2f}%\")\n",
    "\n",
    "\n",
    "evaluate_model(improved_model, testing_loader_improved)"
   ]
  },
  {
   "cell_type": "markdown",
   "metadata": {},
   "source": [
    "## Hyper Parameter Optimization"
   ]
  },
  {
   "cell_type": "markdown",
   "metadata": {},
   "source": [
    "Here we are planning to use GridSearch for the hyper parameter optimization.\n",
    "For this we are planning to take Learning Rate, Batch Size and Number of Layers, Number of filters and Droupout rate hyper parameters for optimization."
   ]
  },
  {
   "cell_type": "code",
   "execution_count": 29,
   "metadata": {},
   "outputs": [],
   "source": [
    "class Params_improved_model(nn.Module):\n",
    "    def __init__(self, number_of_layers, number_of_filters, dropout_probability):\n",
    "        super(Params_improved_model, self).__init__()\n",
    "        self.layers = nn.ModuleList()\n",
    "        input_channels = 3\n",
    "\n",
    "        # Convolutional layers\n",
    "        for layer in range(number_of_layers):\n",
    "            self.layers.append(\n",
    "                nn.Conv2d(input_channels, number_of_filters * (2**layer), 3, padding=1))\n",
    "            self.layers.append(nn.BatchNorm2d(number_of_filters * (2**layer)))\n",
    "            self.layers.append(nn.ReLU())\n",
    "            self.layers.append(nn.MaxPool2d(2, 2))\n",
    "            self.layers.append(nn.Dropout2d(dropout_probability))\n",
    "            input_channels = number_of_filters * (2**layer)\n",
    "\n",
    "        # feature size\n",
    "        feature_size = 224 // (2**number_of_layers)\n",
    "        final_channels = number_of_filters * (2**(number_of_layers-1))\n",
    "        flat_features = final_channels * feature_size * feature_size\n",
    "\n",
    "        self.classifier = nn.Sequential(\n",
    "            nn.Linear(flat_features, 512),\n",
    "            nn.ReLU(),\n",
    "            nn.Dropout(dropout_probability),\n",
    "            nn.Linear(512, 3)\n",
    "        )\n",
    "\n",
    "    def forward(self, x):\n",
    "        # Pass input through all layers\n",
    "        for layer in self.layers:\n",
    "            x = layer(x)\n",
    "        x = x.view(x.size(0), -1)\n",
    "        return self.classifier(x)"
   ]
  },
  {
   "cell_type": "code",
   "execution_count": 36,
   "metadata": {},
   "outputs": [],
   "source": [
    "def train_and_evaluate(model, train_loader, valid_loader, criterion, optimizer, num_epochs=5):\n",
    "    best_val_acc = 0\n",
    "\n",
    "    for epoch in range(num_epochs):\n",
    "        # Training\n",
    "        model.train()\n",
    "        for inputs, labels in train_loader:\n",
    "            optimizer.zero_grad()\n",
    "            outputs = model(inputs)\n",
    "            loss = criterion(outputs, labels)\n",
    "            loss.backward()\n",
    "            optimizer.step()\n",
    "            \n",
    "\n",
    "        # Validation\n",
    "        model.eval()\n",
    "        correct = 0\n",
    "        total = 0\n",
    "        with torch.no_grad():\n",
    "            for inputs, labels in valid_loader:\n",
    "                outputs = model(inputs)\n",
    "                _, predicted = outputs.max(1)\n",
    "                total += labels.size(0)\n",
    "                correct += predicted.eq(labels).sum().item()\n",
    "\n",
    "        val_acc = 100. * correct / total\n",
    "        best_val_acc = max(best_val_acc, val_acc)\n",
    "\n",
    "    return best_val_acc"
   ]
  },
  {
   "cell_type": "code",
   "execution_count": 37,
   "metadata": {},
   "outputs": [],
   "source": [
    "# Define hyperparameter grid\n",
    "param_grid = {\n",
    "    'learning_rate': [0.1, 0.01, 0.001],\n",
    "    'batch_size': [16, 32, 64],\n",
    "    'n_layers': [2, 3, 4],\n",
    "    'n_filters': [32, 64],\n",
    "    'dropout_rate': [0.2, 0.3, 0.4]\n",
    "}"
   ]
  },
  {
   "cell_type": "code",
   "execution_count": 38,
   "metadata": {},
   "outputs": [],
   "source": [
    "import time"
   ]
  },
  {
   "cell_type": "code",
   "execution_count": 39,
   "metadata": {},
   "outputs": [],
   "source": [
    "from itertools import product"
   ]
  }
 ],
 "metadata": {
  "kernelspec": {
   "display_name": "unique_pytorch_env",
   "language": "python",
   "name": "python3"
  },
  "language_info": {
   "codemirror_mode": {
    "name": "ipython",
    "version": 3
   },
   "file_extension": ".py",
   "mimetype": "text/x-python",
   "name": "python",
   "nbconvert_exporter": "python",
   "pygments_lexer": "ipython3",
   "version": "3.8.20"
  }
 },
 "nbformat": 4,
 "nbformat_minor": 2
}
