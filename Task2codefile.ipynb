{
 "cells": [
  {
   "cell_type": "code",
   "execution_count": 1,
   "metadata": {},
   "outputs": [],
   "source": [
    "import torch\n",
    "import torch.nn as nn\n",
    "from torch.utils.data import DataLoader\n",
    "from torchvision import datasets, transforms\n",
    "import os"
   ]
  },
  {
   "cell_type": "code",
   "execution_count": 2,
   "metadata": {},
   "outputs": [
    {
     "name": "stdout",
     "output_type": "stream",
     "text": [
      "Current working directory: c:\\Users\\Dell\\Desktop\\Task2Code\\INM702\n",
      "Contents of current directory: ['.git', 'coursework_task_1.ipynb', 'engine_data.csv', 'main.ipynb', 'README.md', 'Task2codefile.ipynb', 'updated_pollution_dataset.csv']\n"
     ]
    }
   ],
   "source": [
    "# Print current directory and contents\n",
    "print(\"Current working directory:\", os.getcwd())\n",
    "print(\"Contents of current directory:\", os.listdir())"
   ]
  },
  {
   "cell_type": "code",
   "execution_count": 3,
   "metadata": {},
   "outputs": [],
   "source": [
    "base_dir = r'c:\\Users\\Dell\\Desktop\\Task2Code'"
   ]
  },
  {
   "cell_type": "code",
   "execution_count": 4,
   "metadata": {},
   "outputs": [],
   "source": [
    "# Create dataset paths \n",
    "train_path = os.path.join('Train', 'Train')\n",
    "valid_path = os.path.join('Validation', 'Validation')\n",
    "test_path = os.path.join('Test', 'Test')"
   ]
  },
  {
   "cell_type": "code",
   "execution_count": 5,
   "metadata": {},
   "outputs": [],
   "source": [
    "# Define transforms\n",
    "transform = transforms.Compose([\n",
    "    transforms.Resize((32, 32)),  # Smaller size for baseline model\n",
    "    transforms.ToTensor()\n",
    "])"
   ]
  },
  {
   "cell_type": "code",
   "execution_count": 6,
   "metadata": {},
   "outputs": [],
   "source": [
    "# Create dataset paths\n",
    "train_path = os.path.join(base_dir, 'Train', 'Train')\n",
    "valid_path = os.path.join(base_dir, 'Validation', 'Validation')\n",
    "test_path = os.path.join(base_dir, 'Test', 'Test')"
   ]
  },
  {
   "cell_type": "code",
   "execution_count": 7,
   "metadata": {},
   "outputs": [],
   "source": [
    "\n",
    "# Create datasets\n",
    "train_dataset = datasets.ImageFolder(train_path, transform=transform)\n",
    "valid_dataset = datasets.ImageFolder(valid_path, transform=transform)\n",
    "test_dataset = datasets.ImageFolder(test_path, transform=transform)\n"
   ]
  },
  {
   "cell_type": "code",
   "execution_count": 8,
   "metadata": {},
   "outputs": [
    {
     "name": "stdout",
     "output_type": "stream",
     "text": [
      "Number of training images: 1322\n",
      "Number of validation images: 60\n",
      "Number of test images: 150\n",
      "Classes: ['Healthy', 'Powdery', 'Rust']\n"
     ]
    }
   ],
   "source": [
    "# Print dataset information\n",
    "print(f'Number of training images: {len(train_dataset)}')\n",
    "print(f'Number of validation images: {len(valid_dataset)}')\n",
    "print(f'Number of test images: {len(test_dataset)}')\n",
    "print(f'Classes: {train_dataset.classes}')\n"
   ]
  },
  {
   "cell_type": "code",
   "execution_count": 9,
   "metadata": {},
   "outputs": [],
   "source": [
    "# Create dataloaders\n",
    "train_loader = DataLoader(train_dataset, batch_size=32, shuffle=True)\n",
    "valid_loader = DataLoader(valid_dataset, batch_size=32)\n",
    "test_loader = DataLoader(test_dataset, batch_size=32)"
   ]
  },
  {
   "cell_type": "markdown",
   "metadata": {},
   "source": [
    "BaseLine Model"
   ]
  },
  {
   "cell_type": "code",
   "execution_count": 11,
   "metadata": {},
   "outputs": [],
   "source": [
    "class BaselineCNN(nn.Module):\n",
    "    def __init__(self):\n",
    "        super(BaselineCNN, self).__init__()\n",
    "        # Just one conv layer\n",
    "        self.conv1 = nn.Conv2d(3, 16, 3, padding=1)\n",
    "        self.pool = nn.MaxPool2d(2, 2)\n",
    "        \n",
    "        # Two fully connected layers\n",
    "        self.fc1 = nn.Linear(16 * 16 * 16, 64)\n",
    "        self.fc2 = nn.Linear(64, 3)  # 3 classes\n",
    "        \n",
    "    def forward(self, x):\n",
    "        x = self.pool(torch.relu(self.conv1(x)))\n",
    "        x = x.view(-1, 16 * 16 * 16)\n",
    "        x = torch.relu(self.fc1(x))\n",
    "        x = self.fc2(x)\n",
    "        return x"
   ]
  },
  {
   "cell_type": "code",
   "execution_count": 12,
   "metadata": {},
   "outputs": [],
   "source": [
    "# Initialize model and training components\n",
    "model = BaselineCNN()\n",
    "criterion = nn.CrossEntropyLoss()\n",
    "optimizer = torch.optim.SGD(model.parameters(), lr=0.01)"
   ]
  },
  {
   "cell_type": "markdown",
   "metadata": {},
   "source": [
    "Train the baseline model"
   ]
  },
  {
   "cell_type": "code",
   "execution_count": 20,
   "metadata": {},
   "outputs": [
    {
     "name": "stdout",
     "output_type": "stream",
     "text": [
      "Starting training...\n",
      "Epoch 1/5:\n",
      "Loss: 0.646\n",
      "Train Accuracy: 70.80%\n",
      "Validation Accuracy: 46.67%\n",
      "\n",
      "Epoch 2/5:\n",
      "Loss: 0.605\n",
      "Train Accuracy: 75.64%\n",
      "Validation Accuracy: 60.00%\n",
      "\n",
      "Epoch 3/5:\n",
      "Loss: 0.613\n",
      "Train Accuracy: 75.79%\n",
      "Validation Accuracy: 48.33%\n",
      "\n",
      "Epoch 4/5:\n",
      "Loss: 0.583\n",
      "Train Accuracy: 75.19%\n",
      "Validation Accuracy: 41.67%\n",
      "\n",
      "Epoch 5/5:\n",
      "Loss: 0.584\n",
      "Train Accuracy: 75.87%\n",
      "Validation Accuracy: 56.67%\n",
      "\n",
      "Test Accuracy: 58.67%\n"
     ]
    }
   ],
   "source": [
    "# Set random seed for reproducibility\n",
    "torch.manual_seed(42)\n",
    "\n",
    "# Simple training components\n",
    "criterion = nn.CrossEntropyLoss()\n",
    "optimizer = torch.optim.SGD(model.parameters(), lr=0.01)\n",
    "\n",
    "print(\"Starting training...\")\n",
    "num_epochs = 5 \n",
    "\n",
    "for epoch in range(num_epochs):\n",
    "    # Training phase\n",
    "    model.train()\n",
    "    running_loss = 0.0\n",
    "    correct = 0\n",
    "    total = 0\n",
    "    \n",
    "    for inputs, labels in train_loader:\n",
    "        optimizer.zero_grad()\n",
    "        outputs = model(inputs)\n",
    "        loss = criterion(outputs, labels)\n",
    "        loss.backward()\n",
    "        optimizer.step()\n",
    "        \n",
    "        running_loss += loss.item()\n",
    "        _, predicted = outputs.max(1)\n",
    "        total += labels.size(0)\n",
    "        correct += predicted.eq(labels).sum().item()\n",
    "    \n",
    "    train_acc = 100. * correct / total\n",
    "    \n",
    "    # Validation phase\n",
    "    model.eval()\n",
    "    correct = 0\n",
    "    total = 0\n",
    "    with torch.no_grad():\n",
    "        for inputs, labels in valid_loader:\n",
    "            outputs = model(inputs)\n",
    "            _, predicted = outputs.max(1)\n",
    "            total += labels.size(0)\n",
    "            correct += predicted.eq(labels).sum().item()\n",
    "    \n",
    "    val_acc = 100. * correct / total\n",
    "    \n",
    "    print(f'Epoch {epoch+1}/{num_epochs}:')\n",
    "    print(f'Loss: {running_loss/len(train_loader):.3f}')\n",
    "    print(f'Train Accuracy: {train_acc:.2f}%')\n",
    "    print(f'Validation Accuracy: {val_acc:.2f}%\\n')\n",
    "\n",
    "# Simple evaluation\n",
    "model.eval()\n",
    "correct = 0\n",
    "total = 0\n",
    "with torch.no_grad():\n",
    "    for inputs, labels in test_loader:\n",
    "        outputs = model(inputs)\n",
    "        _, predicted = outputs.max(1)\n",
    "        total += labels.size(0)\n",
    "        correct += predicted.eq(labels).sum().item()\n",
    "\n",
    "print(f'Test Accuracy: {100.*correct/total:.2f}%')"
   ]
  },
  {
   "cell_type": "code",
   "execution_count": 21,
   "metadata": {},
   "outputs": [
    {
     "name": "stdout",
     "output_type": "stream",
     "text": [
      "Test Accuracy: 58.67%\n"
     ]
    }
   ],
   "source": [
    "correct = 0\n",
    "total = 0\n",
    "with torch.no_grad():\n",
    "    for inputs, labels in test_loader:\n",
    "        outputs = model(inputs)\n",
    "        _, predicted = outputs.max(1)\n",
    "        total += labels.size(0)\n",
    "        correct += predicted.eq(labels).sum().item()\n",
    "\n",
    "test_accuracy = 100. * correct / total \n",
    "print(f'Test Accuracy: {test_accuracy:.2f}%')"
   ]
  },
  {
   "cell_type": "code",
   "execution_count": 22,
   "metadata": {},
   "outputs": [
    {
     "name": "stdout",
     "output_type": "stream",
     "text": [
      "Baseline Test Accuracy: 58.67%\n"
     ]
    }
   ],
   "source": [
    "baseline_results = {\n",
    "    'test_accuracy': test_accuracy,  \n",
    "    'model_state': model.state_dict().copy()\n",
    "}\n",
    "\n",
    "\n",
    "print(f\"Baseline Test Accuracy: {float(baseline_results['test_accuracy']):.2f}%\")\n",
    "\n",
    "\n",
    "\n",
    "baseline_transform = transform  \n",
    "baseline_model = model  "
   ]
  }
 ],
 "metadata": {
  "kernelspec": {
   "display_name": "base",
   "language": "python",
   "name": "python3"
  },
  "language_info": {
   "codemirror_mode": {
    "name": "ipython",
    "version": 3
   },
   "file_extension": ".py",
   "mimetype": "text/x-python",
   "name": "python",
   "nbconvert_exporter": "python",
   "pygments_lexer": "ipython3",
   "version": "3.12.4"
  }
 },
 "nbformat": 4,
 "nbformat_minor": 2
}
